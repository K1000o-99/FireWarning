{
  "nbformat": 4,
  "nbformat_minor": 0,
  "metadata": {
    "colab": {
      "provenance": [],
      "gpuType": "T4"
    },
    "kernelspec": {
      "name": "python3",
      "display_name": "Python 3"
    },
    "language_info": {
      "name": "python"
    },
    "accelerator": "GPU"
  },
  "cells": [
    {
      "cell_type": "markdown",
      "source": [
        "**Instalando la libreria**"
      ],
      "metadata": {
        "id": "zTiuvG7GLZqq"
      }
    },
    {
      "cell_type": "code",
      "execution_count": null,
      "metadata": {
        "colab": {
          "base_uri": "https://localhost:8080/"
        },
        "id": "1eFa7gxvaTct",
        "outputId": "ffda378e-4881-4708-ef27-bd5bd3cbcc3e"
      },
      "outputs": [
        {
          "output_type": "stream",
          "name": "stdout",
          "text": [
            "Collecting tensorflowjs\n",
            "  Downloading tensorflowjs-4.13.0-py3-none-any.whl (89 kB)\n",
            "\u001b[?25l     \u001b[90m━━━━━━━━━━━━━━━━━━━━━━━━━━━━━━━━━━━━━━━━\u001b[0m \u001b[32m0.0/89.2 kB\u001b[0m \u001b[31m?\u001b[0m eta \u001b[36m-:--:--\u001b[0m\r\u001b[2K     \u001b[91m━━━━━━━━━━━━━━━━━━\u001b[0m\u001b[90m╺\u001b[0m\u001b[90m━━━━━━━━━━━━━━━━━━━━━\u001b[0m \u001b[32m41.0/89.2 kB\u001b[0m \u001b[31m1.3 MB/s\u001b[0m eta \u001b[36m0:00:01\u001b[0m\r\u001b[2K     \u001b[90m━━━━━━━━━━━━━━━━━━━━━━━━━━━━━━━━━━━━━━━━\u001b[0m \u001b[32m89.2/89.2 kB\u001b[0m \u001b[31m2.0 MB/s\u001b[0m eta \u001b[36m0:00:00\u001b[0m\n",
            "\u001b[?25hRequirement already satisfied: flax>=0.7.2 in /usr/local/lib/python3.10/dist-packages (from tensorflowjs) (0.7.5)\n",
            "Requirement already satisfied: importlib_resources>=5.9.0 in /usr/local/lib/python3.10/dist-packages (from tensorflowjs) (6.1.1)\n",
            "Requirement already satisfied: jax>=0.4.13 in /usr/local/lib/python3.10/dist-packages (from tensorflowjs) (0.4.20)\n",
            "Requirement already satisfied: jaxlib>=0.4.13 in /usr/local/lib/python3.10/dist-packages (from tensorflowjs) (0.4.20+cuda11.cudnn86)\n",
            "Requirement already satisfied: tensorflow<3,>=2.13.0 in /usr/local/lib/python3.10/dist-packages (from tensorflowjs) (2.14.0)\n",
            "Collecting tensorflow-decision-forests>=1.5.0 (from tensorflowjs)\n",
            "  Downloading tensorflow_decision_forests-1.8.1-cp310-cp310-manylinux_2_17_x86_64.manylinux2014_x86_64.whl (15.3 MB)\n",
            "\u001b[2K     \u001b[90m━━━━━━━━━━━━━━━━━━━━━━━━━━━━━━━━━━━━━━━━\u001b[0m \u001b[32m15.3/15.3 MB\u001b[0m \u001b[31m89.8 MB/s\u001b[0m eta \u001b[36m0:00:00\u001b[0m\n",
            "\u001b[?25hRequirement already satisfied: six<2,>=1.16.0 in /usr/local/lib/python3.10/dist-packages (from tensorflowjs) (1.16.0)\n",
            "Requirement already satisfied: tensorflow-hub>=0.14.0 in /usr/local/lib/python3.10/dist-packages (from tensorflowjs) (0.15.0)\n",
            "Requirement already satisfied: packaging~=23.1 in /usr/local/lib/python3.10/dist-packages (from tensorflowjs) (23.2)\n",
            "Requirement already satisfied: numpy>=1.22 in /usr/local/lib/python3.10/dist-packages (from flax>=0.7.2->tensorflowjs) (1.23.5)\n",
            "Requirement already satisfied: msgpack in /usr/local/lib/python3.10/dist-packages (from flax>=0.7.2->tensorflowjs) (1.0.7)\n",
            "Requirement already satisfied: optax in /usr/local/lib/python3.10/dist-packages (from flax>=0.7.2->tensorflowjs) (0.1.7)\n",
            "Requirement already satisfied: orbax-checkpoint in /usr/local/lib/python3.10/dist-packages (from flax>=0.7.2->tensorflowjs) (0.4.2)\n",
            "Requirement already satisfied: tensorstore in /usr/local/lib/python3.10/dist-packages (from flax>=0.7.2->tensorflowjs) (0.1.45)\n",
            "Requirement already satisfied: rich>=11.1 in /usr/local/lib/python3.10/dist-packages (from flax>=0.7.2->tensorflowjs) (13.7.0)\n",
            "Requirement already satisfied: typing-extensions>=4.2 in /usr/local/lib/python3.10/dist-packages (from flax>=0.7.2->tensorflowjs) (4.5.0)\n",
            "Requirement already satisfied: PyYAML>=5.4.1 in /usr/local/lib/python3.10/dist-packages (from flax>=0.7.2->tensorflowjs) (6.0.1)\n",
            "Requirement already satisfied: ml-dtypes>=0.2.0 in /usr/local/lib/python3.10/dist-packages (from jax>=0.4.13->tensorflowjs) (0.2.0)\n",
            "Requirement already satisfied: opt-einsum in /usr/local/lib/python3.10/dist-packages (from jax>=0.4.13->tensorflowjs) (3.3.0)\n",
            "Requirement already satisfied: scipy>=1.9 in /usr/local/lib/python3.10/dist-packages (from jax>=0.4.13->tensorflowjs) (1.11.3)\n",
            "Requirement already satisfied: absl-py>=1.0.0 in /usr/local/lib/python3.10/dist-packages (from tensorflow<3,>=2.13.0->tensorflowjs) (1.4.0)\n",
            "Requirement already satisfied: astunparse>=1.6.0 in /usr/local/lib/python3.10/dist-packages (from tensorflow<3,>=2.13.0->tensorflowjs) (1.6.3)\n",
            "Requirement already satisfied: flatbuffers>=23.5.26 in /usr/local/lib/python3.10/dist-packages (from tensorflow<3,>=2.13.0->tensorflowjs) (23.5.26)\n",
            "Requirement already satisfied: gast!=0.5.0,!=0.5.1,!=0.5.2,>=0.2.1 in /usr/local/lib/python3.10/dist-packages (from tensorflow<3,>=2.13.0->tensorflowjs) (0.5.4)\n",
            "Requirement already satisfied: google-pasta>=0.1.1 in /usr/local/lib/python3.10/dist-packages (from tensorflow<3,>=2.13.0->tensorflowjs) (0.2.0)\n",
            "Requirement already satisfied: h5py>=2.9.0 in /usr/local/lib/python3.10/dist-packages (from tensorflow<3,>=2.13.0->tensorflowjs) (3.9.0)\n",
            "Requirement already satisfied: libclang>=13.0.0 in /usr/local/lib/python3.10/dist-packages (from tensorflow<3,>=2.13.0->tensorflowjs) (16.0.6)\n",
            "Requirement already satisfied: protobuf!=4.21.0,!=4.21.1,!=4.21.2,!=4.21.3,!=4.21.4,!=4.21.5,<5.0.0dev,>=3.20.3 in /usr/local/lib/python3.10/dist-packages (from tensorflow<3,>=2.13.0->tensorflowjs) (3.20.3)\n",
            "Requirement already satisfied: setuptools in /usr/local/lib/python3.10/dist-packages (from tensorflow<3,>=2.13.0->tensorflowjs) (67.7.2)\n",
            "Requirement already satisfied: termcolor>=1.1.0 in /usr/local/lib/python3.10/dist-packages (from tensorflow<3,>=2.13.0->tensorflowjs) (2.3.0)\n",
            "Requirement already satisfied: wrapt<1.15,>=1.11.0 in /usr/local/lib/python3.10/dist-packages (from tensorflow<3,>=2.13.0->tensorflowjs) (1.14.1)\n",
            "Requirement already satisfied: tensorflow-io-gcs-filesystem>=0.23.1 in /usr/local/lib/python3.10/dist-packages (from tensorflow<3,>=2.13.0->tensorflowjs) (0.34.0)\n",
            "Requirement already satisfied: grpcio<2.0,>=1.24.3 in /usr/local/lib/python3.10/dist-packages (from tensorflow<3,>=2.13.0->tensorflowjs) (1.59.2)\n",
            "Requirement already satisfied: tensorboard<2.15,>=2.14 in /usr/local/lib/python3.10/dist-packages (from tensorflow<3,>=2.13.0->tensorflowjs) (2.14.1)\n",
            "Requirement already satisfied: tensorflow-estimator<2.15,>=2.14.0 in /usr/local/lib/python3.10/dist-packages (from tensorflow<3,>=2.13.0->tensorflowjs) (2.14.0)\n",
            "Requirement already satisfied: keras<2.15,>=2.14.0 in /usr/local/lib/python3.10/dist-packages (from tensorflow<3,>=2.13.0->tensorflowjs) (2.14.0)\n",
            "Requirement already satisfied: pandas in /usr/local/lib/python3.10/dist-packages (from tensorflow-decision-forests>=1.5.0->tensorflowjs) (1.5.3)\n",
            "Collecting tensorflow<3,>=2.13.0 (from tensorflowjs)\n",
            "  Downloading tensorflow-2.15.0-cp310-cp310-manylinux_2_17_x86_64.manylinux2014_x86_64.whl (475.2 MB)\n",
            "\u001b[2K     \u001b[90m━━━━━━━━━━━━━━━━━━━━━━━━━━━━━━━━━━━━━━━━\u001b[0m \u001b[32m475.2/475.2 MB\u001b[0m \u001b[31m3.4 MB/s\u001b[0m eta \u001b[36m0:00:00\u001b[0m\n",
            "\u001b[?25hRequirement already satisfied: wheel in /usr/local/lib/python3.10/dist-packages (from tensorflow-decision-forests>=1.5.0->tensorflowjs) (0.41.3)\n",
            "Collecting wurlitzer (from tensorflow-decision-forests>=1.5.0->tensorflowjs)\n",
            "  Downloading wurlitzer-3.0.3-py3-none-any.whl (7.3 kB)\n",
            "Collecting tensorboard<2.16,>=2.15 (from tensorflow<3,>=2.13.0->tensorflowjs)\n",
            "  Downloading tensorboard-2.15.1-py3-none-any.whl (5.5 MB)\n",
            "\u001b[2K     \u001b[90m━━━━━━━━━━━━━━━━━━━━━━━━━━━━━━━━━━━━━━━━\u001b[0m \u001b[32m5.5/5.5 MB\u001b[0m \u001b[31m104.3 MB/s\u001b[0m eta \u001b[36m0:00:00\u001b[0m\n",
            "\u001b[?25hCollecting tensorflow-estimator<2.16,>=2.15.0 (from tensorflow<3,>=2.13.0->tensorflowjs)\n",
            "  Downloading tensorflow_estimator-2.15.0-py2.py3-none-any.whl (441 kB)\n",
            "\u001b[2K     \u001b[90m━━━━━━━━━━━━━━━━━━━━━━━━━━━━━━━━━━━━━━━━\u001b[0m \u001b[32m442.0/442.0 kB\u001b[0m \u001b[31m49.1 MB/s\u001b[0m eta \u001b[36m0:00:00\u001b[0m\n",
            "\u001b[?25hCollecting keras<2.16,>=2.15.0 (from tensorflow<3,>=2.13.0->tensorflowjs)\n",
            "  Downloading keras-2.15.0-py3-none-any.whl (1.7 MB)\n",
            "\u001b[2K     \u001b[90m━━━━━━━━━━━━━━━━━━━━━━━━━━━━━━━━━━━━━━━━\u001b[0m \u001b[32m1.7/1.7 MB\u001b[0m \u001b[31m96.1 MB/s\u001b[0m eta \u001b[36m0:00:00\u001b[0m\n",
            "\u001b[?25hRequirement already satisfied: markdown-it-py>=2.2.0 in /usr/local/lib/python3.10/dist-packages (from rich>=11.1->flax>=0.7.2->tensorflowjs) (3.0.0)\n",
            "Requirement already satisfied: pygments<3.0.0,>=2.13.0 in /usr/local/lib/python3.10/dist-packages (from rich>=11.1->flax>=0.7.2->tensorflowjs) (2.16.1)\n",
            "Requirement already satisfied: google-auth<3,>=1.6.3 in /usr/local/lib/python3.10/dist-packages (from tensorboard<2.16,>=2.15->tensorflow<3,>=2.13.0->tensorflowjs) (2.17.3)\n",
            "Requirement already satisfied: google-auth-oauthlib<2,>=0.5 in /usr/local/lib/python3.10/dist-packages (from tensorboard<2.16,>=2.15->tensorflow<3,>=2.13.0->tensorflowjs) (1.0.0)\n",
            "Requirement already satisfied: markdown>=2.6.8 in /usr/local/lib/python3.10/dist-packages (from tensorboard<2.16,>=2.15->tensorflow<3,>=2.13.0->tensorflowjs) (3.5.1)\n",
            "Requirement already satisfied: requests<3,>=2.21.0 in /usr/local/lib/python3.10/dist-packages (from tensorboard<2.16,>=2.15->tensorflow<3,>=2.13.0->tensorflowjs) (2.31.0)\n",
            "Requirement already satisfied: tensorboard-data-server<0.8.0,>=0.7.0 in /usr/local/lib/python3.10/dist-packages (from tensorboard<2.16,>=2.15->tensorflow<3,>=2.13.0->tensorflowjs) (0.7.2)\n",
            "Requirement already satisfied: werkzeug>=1.0.1 in /usr/local/lib/python3.10/dist-packages (from tensorboard<2.16,>=2.15->tensorflow<3,>=2.13.0->tensorflowjs) (3.0.1)\n",
            "Requirement already satisfied: chex>=0.1.5 in /usr/local/lib/python3.10/dist-packages (from optax->flax>=0.7.2->tensorflowjs) (0.1.7)\n",
            "Requirement already satisfied: etils[epath,epy] in /usr/local/lib/python3.10/dist-packages (from orbax-checkpoint->flax>=0.7.2->tensorflowjs) (1.5.2)\n",
            "Requirement already satisfied: nest_asyncio in /usr/local/lib/python3.10/dist-packages (from orbax-checkpoint->flax>=0.7.2->tensorflowjs) (1.5.8)\n",
            "Requirement already satisfied: python-dateutil>=2.8.1 in /usr/local/lib/python3.10/dist-packages (from pandas->tensorflow-decision-forests>=1.5.0->tensorflowjs) (2.8.2)\n",
            "Requirement already satisfied: pytz>=2020.1 in /usr/local/lib/python3.10/dist-packages (from pandas->tensorflow-decision-forests>=1.5.0->tensorflowjs) (2023.3.post1)\n",
            "Requirement already satisfied: dm-tree>=0.1.5 in /usr/local/lib/python3.10/dist-packages (from chex>=0.1.5->optax->flax>=0.7.2->tensorflowjs) (0.1.8)\n",
            "Requirement already satisfied: toolz>=0.9.0 in /usr/local/lib/python3.10/dist-packages (from chex>=0.1.5->optax->flax>=0.7.2->tensorflowjs) (0.12.0)\n",
            "Requirement already satisfied: cachetools<6.0,>=2.0.0 in /usr/local/lib/python3.10/dist-packages (from google-auth<3,>=1.6.3->tensorboard<2.16,>=2.15->tensorflow<3,>=2.13.0->tensorflowjs) (5.3.2)\n",
            "Requirement already satisfied: pyasn1-modules>=0.2.1 in /usr/local/lib/python3.10/dist-packages (from google-auth<3,>=1.6.3->tensorboard<2.16,>=2.15->tensorflow<3,>=2.13.0->tensorflowjs) (0.3.0)\n",
            "Requirement already satisfied: rsa<5,>=3.1.4 in /usr/local/lib/python3.10/dist-packages (from google-auth<3,>=1.6.3->tensorboard<2.16,>=2.15->tensorflow<3,>=2.13.0->tensorflowjs) (4.9)\n",
            "Requirement already satisfied: requests-oauthlib>=0.7.0 in /usr/local/lib/python3.10/dist-packages (from google-auth-oauthlib<2,>=0.5->tensorboard<2.16,>=2.15->tensorflow<3,>=2.13.0->tensorflowjs) (1.3.1)\n",
            "Requirement already satisfied: mdurl~=0.1 in /usr/local/lib/python3.10/dist-packages (from markdown-it-py>=2.2.0->rich>=11.1->flax>=0.7.2->tensorflowjs) (0.1.2)\n",
            "Requirement already satisfied: charset-normalizer<4,>=2 in /usr/local/lib/python3.10/dist-packages (from requests<3,>=2.21.0->tensorboard<2.16,>=2.15->tensorflow<3,>=2.13.0->tensorflowjs) (3.3.2)\n",
            "Requirement already satisfied: idna<4,>=2.5 in /usr/local/lib/python3.10/dist-packages (from requests<3,>=2.21.0->tensorboard<2.16,>=2.15->tensorflow<3,>=2.13.0->tensorflowjs) (3.4)\n",
            "Requirement already satisfied: urllib3<3,>=1.21.1 in /usr/local/lib/python3.10/dist-packages (from requests<3,>=2.21.0->tensorboard<2.16,>=2.15->tensorflow<3,>=2.13.0->tensorflowjs) (2.0.7)\n",
            "Requirement already satisfied: certifi>=2017.4.17 in /usr/local/lib/python3.10/dist-packages (from requests<3,>=2.21.0->tensorboard<2.16,>=2.15->tensorflow<3,>=2.13.0->tensorflowjs) (2023.7.22)\n",
            "Requirement already satisfied: MarkupSafe>=2.1.1 in /usr/local/lib/python3.10/dist-packages (from werkzeug>=1.0.1->tensorboard<2.16,>=2.15->tensorflow<3,>=2.13.0->tensorflowjs) (2.1.3)\n",
            "Requirement already satisfied: fsspec in /usr/local/lib/python3.10/dist-packages (from etils[epath,epy]->orbax-checkpoint->flax>=0.7.2->tensorflowjs) (2023.6.0)\n",
            "Requirement already satisfied: zipp in /usr/local/lib/python3.10/dist-packages (from etils[epath,epy]->orbax-checkpoint->flax>=0.7.2->tensorflowjs) (3.17.0)\n",
            "Requirement already satisfied: pyasn1<0.6.0,>=0.4.6 in /usr/local/lib/python3.10/dist-packages (from pyasn1-modules>=0.2.1->google-auth<3,>=1.6.3->tensorboard<2.16,>=2.15->tensorflow<3,>=2.13.0->tensorflowjs) (0.5.0)\n",
            "Requirement already satisfied: oauthlib>=3.0.0 in /usr/local/lib/python3.10/dist-packages (from requests-oauthlib>=0.7.0->google-auth-oauthlib<2,>=0.5->tensorboard<2.16,>=2.15->tensorflow<3,>=2.13.0->tensorflowjs) (3.2.2)\n",
            "Installing collected packages: wurlitzer, tensorflow-estimator, keras, tensorboard, tensorflow, tensorflow-decision-forests, tensorflowjs\n",
            "  Attempting uninstall: tensorflow-estimator\n",
            "    Found existing installation: tensorflow-estimator 2.14.0\n",
            "    Uninstalling tensorflow-estimator-2.14.0:\n",
            "      Successfully uninstalled tensorflow-estimator-2.14.0\n",
            "  Attempting uninstall: keras\n",
            "    Found existing installation: keras 2.14.0\n",
            "    Uninstalling keras-2.14.0:\n",
            "      Successfully uninstalled keras-2.14.0\n",
            "  Attempting uninstall: tensorboard\n",
            "    Found existing installation: tensorboard 2.14.1\n",
            "    Uninstalling tensorboard-2.14.1:\n",
            "      Successfully uninstalled tensorboard-2.14.1\n",
            "  Attempting uninstall: tensorflow\n",
            "    Found existing installation: tensorflow 2.14.0\n",
            "    Uninstalling tensorflow-2.14.0:\n",
            "      Successfully uninstalled tensorflow-2.14.0\n",
            "Successfully installed keras-2.15.0 tensorboard-2.15.1 tensorflow-2.15.0 tensorflow-decision-forests-1.8.1 tensorflow-estimator-2.15.0 tensorflowjs-4.13.0 wurlitzer-3.0.3\n",
            "Requirement already satisfied: tensorflow in /usr/local/lib/python3.10/dist-packages (2.15.0)\n",
            "Requirement already satisfied: absl-py>=1.0.0 in /usr/local/lib/python3.10/dist-packages (from tensorflow) (1.4.0)\n",
            "Requirement already satisfied: astunparse>=1.6.0 in /usr/local/lib/python3.10/dist-packages (from tensorflow) (1.6.3)\n",
            "Requirement already satisfied: flatbuffers>=23.5.26 in /usr/local/lib/python3.10/dist-packages (from tensorflow) (23.5.26)\n",
            "Requirement already satisfied: gast!=0.5.0,!=0.5.1,!=0.5.2,>=0.2.1 in /usr/local/lib/python3.10/dist-packages (from tensorflow) (0.5.4)\n",
            "Requirement already satisfied: google-pasta>=0.1.1 in /usr/local/lib/python3.10/dist-packages (from tensorflow) (0.2.0)\n",
            "Requirement already satisfied: h5py>=2.9.0 in /usr/local/lib/python3.10/dist-packages (from tensorflow) (3.9.0)\n",
            "Requirement already satisfied: libclang>=13.0.0 in /usr/local/lib/python3.10/dist-packages (from tensorflow) (16.0.6)\n",
            "Requirement already satisfied: ml-dtypes~=0.2.0 in /usr/local/lib/python3.10/dist-packages (from tensorflow) (0.2.0)\n",
            "Requirement already satisfied: numpy<2.0.0,>=1.23.5 in /usr/local/lib/python3.10/dist-packages (from tensorflow) (1.23.5)\n",
            "Requirement already satisfied: opt-einsum>=2.3.2 in /usr/local/lib/python3.10/dist-packages (from tensorflow) (3.3.0)\n",
            "Requirement already satisfied: packaging in /usr/local/lib/python3.10/dist-packages (from tensorflow) (23.2)\n",
            "Requirement already satisfied: protobuf!=4.21.0,!=4.21.1,!=4.21.2,!=4.21.3,!=4.21.4,!=4.21.5,<5.0.0dev,>=3.20.3 in /usr/local/lib/python3.10/dist-packages (from tensorflow) (3.20.3)\n",
            "Requirement already satisfied: setuptools in /usr/local/lib/python3.10/dist-packages (from tensorflow) (67.7.2)\n",
            "Requirement already satisfied: six>=1.12.0 in /usr/local/lib/python3.10/dist-packages (from tensorflow) (1.16.0)\n",
            "Requirement already satisfied: termcolor>=1.1.0 in /usr/local/lib/python3.10/dist-packages (from tensorflow) (2.3.0)\n",
            "Requirement already satisfied: typing-extensions>=3.6.6 in /usr/local/lib/python3.10/dist-packages (from tensorflow) (4.5.0)\n",
            "Requirement already satisfied: wrapt<1.15,>=1.11.0 in /usr/local/lib/python3.10/dist-packages (from tensorflow) (1.14.1)\n",
            "Requirement already satisfied: tensorflow-io-gcs-filesystem>=0.23.1 in /usr/local/lib/python3.10/dist-packages (from tensorflow) (0.34.0)\n",
            "Requirement already satisfied: grpcio<2.0,>=1.24.3 in /usr/local/lib/python3.10/dist-packages (from tensorflow) (1.59.2)\n",
            "Requirement already satisfied: tensorboard<2.16,>=2.15 in /usr/local/lib/python3.10/dist-packages (from tensorflow) (2.15.1)\n",
            "Requirement already satisfied: tensorflow-estimator<2.16,>=2.15.0 in /usr/local/lib/python3.10/dist-packages (from tensorflow) (2.15.0)\n",
            "Requirement already satisfied: keras<2.16,>=2.15.0 in /usr/local/lib/python3.10/dist-packages (from tensorflow) (2.15.0)\n",
            "Requirement already satisfied: wheel<1.0,>=0.23.0 in /usr/local/lib/python3.10/dist-packages (from astunparse>=1.6.0->tensorflow) (0.41.3)\n",
            "Requirement already satisfied: google-auth<3,>=1.6.3 in /usr/local/lib/python3.10/dist-packages (from tensorboard<2.16,>=2.15->tensorflow) (2.17.3)\n",
            "Requirement already satisfied: google-auth-oauthlib<2,>=0.5 in /usr/local/lib/python3.10/dist-packages (from tensorboard<2.16,>=2.15->tensorflow) (1.0.0)\n",
            "Requirement already satisfied: markdown>=2.6.8 in /usr/local/lib/python3.10/dist-packages (from tensorboard<2.16,>=2.15->tensorflow) (3.5.1)\n",
            "Requirement already satisfied: requests<3,>=2.21.0 in /usr/local/lib/python3.10/dist-packages (from tensorboard<2.16,>=2.15->tensorflow) (2.31.0)\n",
            "Requirement already satisfied: tensorboard-data-server<0.8.0,>=0.7.0 in /usr/local/lib/python3.10/dist-packages (from tensorboard<2.16,>=2.15->tensorflow) (0.7.2)\n",
            "Requirement already satisfied: werkzeug>=1.0.1 in /usr/local/lib/python3.10/dist-packages (from tensorboard<2.16,>=2.15->tensorflow) (3.0.1)\n",
            "Requirement already satisfied: cachetools<6.0,>=2.0.0 in /usr/local/lib/python3.10/dist-packages (from google-auth<3,>=1.6.3->tensorboard<2.16,>=2.15->tensorflow) (5.3.2)\n",
            "Requirement already satisfied: pyasn1-modules>=0.2.1 in /usr/local/lib/python3.10/dist-packages (from google-auth<3,>=1.6.3->tensorboard<2.16,>=2.15->tensorflow) (0.3.0)\n",
            "Requirement already satisfied: rsa<5,>=3.1.4 in /usr/local/lib/python3.10/dist-packages (from google-auth<3,>=1.6.3->tensorboard<2.16,>=2.15->tensorflow) (4.9)\n",
            "Requirement already satisfied: requests-oauthlib>=0.7.0 in /usr/local/lib/python3.10/dist-packages (from google-auth-oauthlib<2,>=0.5->tensorboard<2.16,>=2.15->tensorflow) (1.3.1)\n",
            "Requirement already satisfied: charset-normalizer<4,>=2 in /usr/local/lib/python3.10/dist-packages (from requests<3,>=2.21.0->tensorboard<2.16,>=2.15->tensorflow) (3.3.2)\n",
            "Requirement already satisfied: idna<4,>=2.5 in /usr/local/lib/python3.10/dist-packages (from requests<3,>=2.21.0->tensorboard<2.16,>=2.15->tensorflow) (3.4)\n",
            "Requirement already satisfied: urllib3<3,>=1.21.1 in /usr/local/lib/python3.10/dist-packages (from requests<3,>=2.21.0->tensorboard<2.16,>=2.15->tensorflow) (2.0.7)\n",
            "Requirement already satisfied: certifi>=2017.4.17 in /usr/local/lib/python3.10/dist-packages (from requests<3,>=2.21.0->tensorboard<2.16,>=2.15->tensorflow) (2023.7.22)\n",
            "Requirement already satisfied: MarkupSafe>=2.1.1 in /usr/local/lib/python3.10/dist-packages (from werkzeug>=1.0.1->tensorboard<2.16,>=2.15->tensorflow) (2.1.3)\n",
            "Requirement already satisfied: pyasn1<0.6.0,>=0.4.6 in /usr/local/lib/python3.10/dist-packages (from pyasn1-modules>=0.2.1->google-auth<3,>=1.6.3->tensorboard<2.16,>=2.15->tensorflow) (0.5.0)\n",
            "Requirement already satisfied: oauthlib>=3.0.0 in /usr/local/lib/python3.10/dist-packages (from requests-oauthlib>=0.7.0->google-auth-oauthlib<2,>=0.5->tensorboard<2.16,>=2.15->tensorflow) (3.2.2)\n",
            "Requirement already satisfied: imageio[ffmpeg] in /usr/local/lib/python3.10/dist-packages (2.31.6)\n",
            "Requirement already satisfied: numpy in /usr/local/lib/python3.10/dist-packages (from imageio[ffmpeg]) (1.23.5)\n",
            "Requirement already satisfied: pillow<10.1.0,>=8.3.2 in /usr/local/lib/python3.10/dist-packages (from imageio[ffmpeg]) (9.4.0)\n",
            "Requirement already satisfied: imageio-ffmpeg in /usr/local/lib/python3.10/dist-packages (from imageio[ffmpeg]) (0.4.9)\n",
            "Requirement already satisfied: psutil in /usr/local/lib/python3.10/dist-packages (from imageio[ffmpeg]) (5.9.5)\n",
            "Requirement already satisfied: setuptools in /usr/local/lib/python3.10/dist-packages (from imageio-ffmpeg->imageio[ffmpeg]) (67.7.2)\n"
          ]
        }
      ],
      "source": [
        "!pip install tensorflowjs\n",
        "!pip install tensorflow\n",
        "!pip install imageio[ffmpeg]"
      ]
    },
    {
      "cell_type": "code",
      "source": [
        "import tensorflow as tf\n",
        "import numpy as np\n",
        "import matplotlib.pyplot as plt\n",
        "from PIL import Image\n",
        "import imageio\n",
        "import os\n",
        "from sklearn.model_selection import train_test_split\n",
        "from tensorflow.keras.preprocessing.image import ImageDataGenerator\n",
        "from tensorflow.keras.callbacks import TensorBoard"
      ],
      "metadata": {
        "id": "XUOMKzTAanP8"
      },
      "execution_count": null,
      "outputs": []
    },
    {
      "cell_type": "markdown",
      "source": [
        "**Función para cargar imágenes**"
      ],
      "metadata": {
        "id": "YfVReQVwLXoR"
      }
    },
    {
      "cell_type": "code",
      "source": [
        "def cargar_imagenes(ruta, tamano_comun):\n",
        "    imagenes = []\n",
        "    labels = []\n",
        "\n",
        "    categorias = os.listdir(ruta)\n",
        "\n",
        "    for idx, directorio in enumerate(categorias):\n",
        "        for imagen in os.listdir(os.path.join(ruta, directorio)):\n",
        "            img_path = os.path.join(ruta, directorio, imagen)\n",
        "            try:\n",
        "                img = Image.open(img_path).resize(tamano_comun)\n",
        "            except UnidentifiedImageError:\n",
        "                # Intentar abrir la imagen con imageio si Pillow no puede identificar el formato\n",
        "                img = imageio.imread(img_path)\n",
        "                img = Image.fromarray(np.uint8(img))\n",
        "\n",
        "            # Convertir a formato RGB (descartando el canal alfa si existe)\n",
        "            img = img.convert('RGB')\n",
        "\n",
        "            img = np.asarray(img)\n",
        "\n",
        "            # Asegurarse de que todas las imágenes tengan la misma forma (100, 100, 3)\n",
        "            if img.shape == tamano_comun + (3,):\n",
        "                imagenes.append(img)\n",
        "                labels.append(idx)\n",
        "\n",
        "    imagenes = np.asarray(imagenes)\n",
        "    labels = np.asarray(labels)\n",
        "\n",
        "    return imagenes, labels"
      ],
      "metadata": {
        "id": "sNYhDV87an1O"
      },
      "execution_count": null,
      "outputs": []
    },
    {
      "cell_type": "markdown",
      "source": [
        "**Función para normalizar imágenes**"
      ],
      "metadata": {
        "id": "aVWSde-oLTX6"
      }
    },
    {
      "cell_type": "code",
      "source": [
        " def normalizar_imagenes(imagenes):\n",
        "    return imagenes.astype(float) / 255"
      ],
      "metadata": {
        "id": "DMxmrTbgapme"
      },
      "execution_count": null,
      "outputs": []
    },
    {
      "cell_type": "markdown",
      "source": [
        "**Función para definir y compilar el modelo**"
      ],
      "metadata": {
        "id": "k1AwQX7NKvl5"
      }
    },
    {
      "cell_type": "code",
      "source": [
        "def crear_modelo(input_shape, num_categorias):\n",
        "    modelo = tf.keras.models.Sequential([\n",
        "        tf.keras.layers.Conv2D(32, (3,3), activation='relu', input_shape=input_shape),\n",
        "        tf.keras.layers.BatchNormalization(),\n",
        "        tf.keras.layers.MaxPooling2D(2, 2),\n",
        "        tf.keras.layers.Conv2D(64, (3,3), activation='relu'),\n",
        "        tf.keras.layers.BatchNormalization(),\n",
        "        tf.keras.layers.MaxPooling2D(2,2),\n",
        "        tf.keras.layers.Conv2D(128, (3,3), activation='relu'),\n",
        "        tf.keras.layers.BatchNormalization(),\n",
        "        tf.keras.layers.MaxPooling2D(2, 2),\n",
        "        tf.keras.layers.Dropout(0.5),\n",
        "        tf.keras.layers.Flatten(),\n",
        "        tf.keras.layers.Dense(100, activation='relu'),\n",
        "        tf.keras.layers.Dense(num_categorias, activation=\"softmax\")\n",
        "    ])\n",
        "\n",
        "    modelo.compile(optimizer=tf.keras.optimizers.Adam(learning_rate=0.001),\n",
        "                   loss=tf.keras.losses.SparseCategoricalCrossentropy(from_logits=True),\n",
        "                   metrics=['accuracy'])\n",
        "\n",
        "    return modelo"
      ],
      "metadata": {
        "id": "jv_0SRvhasC_"
      },
      "execution_count": null,
      "outputs": []
    },
    {
      "cell_type": "markdown",
      "source": [
        "**Rutas relativas**"
      ],
      "metadata": {
        "id": "kH_GMRQvKq6x"
      }
    },
    {
      "cell_type": "code",
      "source": [
        "ruta_categorias = '/content/drive/MyDrive/ProyectoIncendios/Redes/ProyectoInc/Cate'"
      ],
      "metadata": {
        "id": "okewsoL2a3Cu"
      },
      "execution_count": null,
      "outputs": []
    },
    {
      "cell_type": "markdown",
      "source": [
        "**Cargar imágenes**"
      ],
      "metadata": {
        "id": "0EoHufcvKmxi"
      }
    },
    {
      "cell_type": "code",
      "source": [
        "imagenes, labels = cargar_imagenes(ruta_categorias, (100, 100))"
      ],
      "metadata": {
        "id": "Cp0v1kgZa6YO"
      },
      "execution_count": null,
      "outputs": []
    },
    {
      "cell_type": "markdown",
      "source": [
        "**Normalizar imágenes**"
      ],
      "metadata": {
        "id": "GuECcn1VKkfK"
      }
    },
    {
      "cell_type": "code",
      "source": [
        "imagenes = normalizar_imagenes(imagenes)"
      ],
      "metadata": {
        "id": "esWGlTsea7fZ"
      },
      "execution_count": null,
      "outputs": []
    },
    {
      "cell_type": "markdown",
      "source": [
        "**Dividir datos en entrenamiento y validación**"
      ],
      "metadata": {
        "id": "JOnEmgTPKhFp"
      }
    },
    {
      "cell_type": "code",
      "source": [
        "X_entrenamiento, X_validacion, y_entrenamiento, y_validacion = train_test_split(imagenes, labels, test_size=0.15, random_state=42)"
      ],
      "metadata": {
        "id": "9tWQntUfa89S"
      },
      "execution_count": null,
      "outputs": []
    },
    {
      "cell_type": "markdown",
      "source": [
        "**Aumento de datos**"
      ],
      "metadata": {
        "id": "QU0y3HUpKd4h"
      }
    },
    {
      "cell_type": "code",
      "source": [
        "datagen = ImageDataGenerator(\n",
        "    rotation_range=45,\n",
        "    width_shift_range=0.2,\n",
        "    height_shift_range=0.2,\n",
        "    shear_range=20,\n",
        "    zoom_range=[0.8, 1.2],\n",
        "    horizontal_flip=True,\n",
        "    vertical_flip=True\n",
        ")\n",
        "datagen.fit(X_entrenamiento)"
      ],
      "metadata": {
        "id": "aocW6o1Qa--1"
      },
      "execution_count": null,
      "outputs": []
    },
    {
      "cell_type": "markdown",
      "source": [
        "**Definir y compilar el modelo**"
      ],
      "metadata": {
        "id": "cpxWzFJ_KaQB"
      }
    },
    {
      "cell_type": "code",
      "source": [
        "modelo_AU = crear_modelo((100, 100, 3), len(os.listdir(ruta_categorias)))"
      ],
      "metadata": {
        "id": "1bN0kVs0bAw8"
      },
      "execution_count": null,
      "outputs": []
    },
    {
      "cell_type": "markdown",
      "source": [
        "**Configurar TensorBoard**"
      ],
      "metadata": {
        "id": "-j5i9yuAKW1Z"
      }
    },
    {
      "cell_type": "code",
      "source": [
        " tensor_AU = TensorBoard(log_dir='logs/cnn_AD')"
      ],
      "metadata": {
        "id": "gjtBJJcDbCVo"
      },
      "execution_count": null,
      "outputs": []
    },
    {
      "cell_type": "markdown",
      "source": [
        "**Entrenar el modelo**"
      ],
      "metadata": {
        "id": "KtUNM9GsKRsK"
      }
    },
    {
      "cell_type": "code",
      "source": [
        "historia = modelo_AU.fit(\n",
        "    datagen.flow(X_entrenamiento, y_entrenamiento, batch_size=32),\n",
        "    epochs=250,\n",
        "    validation_data=(X_validacion, y_validacion),\n",
        "    steps_per_epoch=int(np.ceil(len(X_entrenamiento) / float(32))),\n",
        "    validation_steps=int(np.ceil(len(X_validacion) / float(32))),\n",
        "    callbacks=[tensor_AU]\n",
        ")"
      ],
      "metadata": {
        "colab": {
          "base_uri": "https://localhost:8080/"
        },
        "id": "iWml2R_abDwJ",
        "outputId": "36ce9f99-fe5e-44ce-9cbc-e2b171d5cbb6"
      },
      "execution_count": null,
      "outputs": [
        {
          "output_type": "stream",
          "name": "stdout",
          "text": [
            "Epoch 1/250\n",
            "64/64 [==============================] - 52s 819ms/step - loss: 0.4601 - accuracy: 0.8077 - val_loss: 1.8671 - val_accuracy: 0.6278\n",
            "Epoch 2/250\n",
            "64/64 [==============================] - 51s 790ms/step - loss: 0.4204 - accuracy: 0.8170 - val_loss: 2.6289 - val_accuracy: 0.6278\n",
            "Epoch 3/250\n",
            "64/64 [==============================] - 49s 752ms/step - loss: 0.3922 - accuracy: 0.8243 - val_loss: 0.9163 - val_accuracy: 0.6444\n",
            "Epoch 4/250\n",
            "64/64 [==============================] - 51s 794ms/step - loss: 0.3699 - accuracy: 0.8489 - val_loss: 0.5065 - val_accuracy: 0.7250\n",
            "Epoch 5/250\n",
            "64/64 [==============================] - 52s 809ms/step - loss: 0.3662 - accuracy: 0.8445 - val_loss: 1.0778 - val_accuracy: 0.7028\n",
            "Epoch 6/250\n",
            "64/64 [==============================] - 47s 735ms/step - loss: 0.3327 - accuracy: 0.8557 - val_loss: 0.5088 - val_accuracy: 0.7528\n",
            "Epoch 7/250\n",
            "64/64 [==============================] - 53s 822ms/step - loss: 0.3601 - accuracy: 0.8445 - val_loss: 0.4030 - val_accuracy: 0.8083\n",
            "Epoch 8/250\n",
            "64/64 [==============================] - 52s 818ms/step - loss: 0.3327 - accuracy: 0.8597 - val_loss: 0.3959 - val_accuracy: 0.8056\n",
            "Epoch 9/250\n",
            "64/64 [==============================] - 47s 733ms/step - loss: 0.3339 - accuracy: 0.8606 - val_loss: 0.3056 - val_accuracy: 0.8722\n",
            "Epoch 10/250\n",
            "64/64 [==============================] - 51s 803ms/step - loss: 0.2998 - accuracy: 0.8739 - val_loss: 0.2796 - val_accuracy: 0.8583\n",
            "Epoch 11/250\n",
            "64/64 [==============================] - 48s 755ms/step - loss: 0.3040 - accuracy: 0.8759 - val_loss: 0.4336 - val_accuracy: 0.8028\n",
            "Epoch 12/250\n",
            "64/64 [==============================] - 51s 794ms/step - loss: 0.2844 - accuracy: 0.8744 - val_loss: 0.4776 - val_accuracy: 0.8111\n",
            "Epoch 13/250\n",
            "64/64 [==============================] - 48s 747ms/step - loss: 0.3080 - accuracy: 0.8660 - val_loss: 0.2680 - val_accuracy: 0.8917\n",
            "Epoch 14/250\n",
            "64/64 [==============================] - 51s 800ms/step - loss: 0.2787 - accuracy: 0.8817 - val_loss: 0.3982 - val_accuracy: 0.8028\n",
            "Epoch 15/250\n",
            "64/64 [==============================] - 52s 808ms/step - loss: 0.2655 - accuracy: 0.8891 - val_loss: 0.2490 - val_accuracy: 0.8833\n",
            "Epoch 16/250\n",
            "64/64 [==============================] - 48s 752ms/step - loss: 0.2890 - accuracy: 0.8817 - val_loss: 0.2217 - val_accuracy: 0.9222\n",
            "Epoch 17/250\n",
            "64/64 [==============================] - 49s 765ms/step - loss: 0.2597 - accuracy: 0.8965 - val_loss: 0.3794 - val_accuracy: 0.8500\n",
            "Epoch 18/250\n",
            "64/64 [==============================] - 53s 832ms/step - loss: 0.2588 - accuracy: 0.8916 - val_loss: 0.8458 - val_accuracy: 0.7167\n",
            "Epoch 19/250\n",
            "64/64 [==============================] - 47s 741ms/step - loss: 0.2516 - accuracy: 0.9038 - val_loss: 0.2596 - val_accuracy: 0.8722\n",
            "Epoch 20/250\n",
            "64/64 [==============================] - 51s 783ms/step - loss: 0.2429 - accuracy: 0.9033 - val_loss: 0.2922 - val_accuracy: 0.8917\n",
            "Epoch 21/250\n",
            "64/64 [==============================] - 52s 806ms/step - loss: 0.2414 - accuracy: 0.9019 - val_loss: 0.5788 - val_accuracy: 0.8028\n",
            "Epoch 22/250\n",
            "64/64 [==============================] - 48s 755ms/step - loss: 0.2169 - accuracy: 0.9117 - val_loss: 0.2893 - val_accuracy: 0.8722\n",
            "Epoch 23/250\n",
            "64/64 [==============================] - 50s 786ms/step - loss: 0.2352 - accuracy: 0.9141 - val_loss: 1.3011 - val_accuracy: 0.7194\n",
            "Epoch 24/250\n",
            "64/64 [==============================] - 48s 758ms/step - loss: 0.2440 - accuracy: 0.9009 - val_loss: 0.3665 - val_accuracy: 0.8500\n",
            "Epoch 25/250\n",
            "64/64 [==============================] - 51s 803ms/step - loss: 0.2367 - accuracy: 0.9063 - val_loss: 0.2396 - val_accuracy: 0.8833\n",
            "Epoch 26/250\n",
            "64/64 [==============================] - 48s 749ms/step - loss: 0.2469 - accuracy: 0.8867 - val_loss: 0.2607 - val_accuracy: 0.8944\n",
            "Epoch 27/250\n",
            "64/64 [==============================] - 52s 802ms/step - loss: 0.2399 - accuracy: 0.9004 - val_loss: 0.3474 - val_accuracy: 0.8694\n",
            "Epoch 28/250\n",
            "64/64 [==============================] - 53s 827ms/step - loss: 0.2348 - accuracy: 0.9078 - val_loss: 0.4085 - val_accuracy: 0.8361\n",
            "Epoch 29/250\n",
            "64/64 [==============================] - 48s 745ms/step - loss: 0.2283 - accuracy: 0.9019 - val_loss: 0.2490 - val_accuracy: 0.9000\n",
            "Epoch 30/250\n",
            "64/64 [==============================] - 51s 783ms/step - loss: 0.2129 - accuracy: 0.9176 - val_loss: 0.2081 - val_accuracy: 0.9194\n",
            "Epoch 31/250\n",
            "64/64 [==============================] - 51s 797ms/step - loss: 0.2269 - accuracy: 0.9161 - val_loss: 0.1779 - val_accuracy: 0.9417\n",
            "Epoch 32/250\n",
            "64/64 [==============================] - 51s 800ms/step - loss: 0.2097 - accuracy: 0.9200 - val_loss: 0.2694 - val_accuracy: 0.8917\n",
            "Epoch 33/250\n",
            "64/64 [==============================] - 48s 741ms/step - loss: 0.2094 - accuracy: 0.9161 - val_loss: 0.1559 - val_accuracy: 0.9556\n",
            "Epoch 34/250\n",
            "64/64 [==============================] - 51s 793ms/step - loss: 0.2022 - accuracy: 0.9215 - val_loss: 0.6221 - val_accuracy: 0.7944\n",
            "Epoch 35/250\n",
            "64/64 [==============================] - 49s 765ms/step - loss: 0.2118 - accuracy: 0.9141 - val_loss: 0.5696 - val_accuracy: 0.8139\n",
            "Epoch 36/250\n",
            "64/64 [==============================] - 49s 767ms/step - loss: 0.2123 - accuracy: 0.9181 - val_loss: 0.1877 - val_accuracy: 0.9222\n",
            "Epoch 37/250\n",
            "64/64 [==============================] - 50s 777ms/step - loss: 0.1990 - accuracy: 0.9220 - val_loss: 0.2595 - val_accuracy: 0.8806\n",
            "Epoch 38/250\n",
            "64/64 [==============================] - 50s 770ms/step - loss: 0.2024 - accuracy: 0.9195 - val_loss: 0.6254 - val_accuracy: 0.8333\n",
            "Epoch 39/250\n",
            "64/64 [==============================] - 53s 833ms/step - loss: 0.2318 - accuracy: 0.9127 - val_loss: 0.2138 - val_accuracy: 0.8917\n",
            "Epoch 40/250\n",
            "64/64 [==============================] - 51s 793ms/step - loss: 0.2076 - accuracy: 0.9239 - val_loss: 0.3644 - val_accuracy: 0.8750\n",
            "Epoch 41/250\n",
            "64/64 [==============================] - 48s 754ms/step - loss: 0.2083 - accuracy: 0.9151 - val_loss: 0.4474 - val_accuracy: 0.8472\n",
            "Epoch 42/250\n",
            "64/64 [==============================] - 50s 773ms/step - loss: 0.2083 - accuracy: 0.9195 - val_loss: 0.4043 - val_accuracy: 0.8333\n",
            "Epoch 43/250\n",
            "64/64 [==============================] - 52s 811ms/step - loss: 0.1858 - accuracy: 0.9235 - val_loss: 0.9956 - val_accuracy: 0.7000\n",
            "Epoch 44/250\n",
            "64/64 [==============================] - 49s 760ms/step - loss: 0.2082 - accuracy: 0.9200 - val_loss: 0.4013 - val_accuracy: 0.8861\n",
            "Epoch 45/250\n",
            "64/64 [==============================] - 50s 765ms/step - loss: 0.2140 - accuracy: 0.9190 - val_loss: 0.4959 - val_accuracy: 0.8306\n",
            "Epoch 46/250\n",
            "64/64 [==============================] - 51s 798ms/step - loss: 0.2199 - accuracy: 0.9136 - val_loss: 1.0455 - val_accuracy: 0.7694\n",
            "Epoch 47/250\n",
            "64/64 [==============================] - 50s 789ms/step - loss: 0.2163 - accuracy: 0.9132 - val_loss: 0.5557 - val_accuracy: 0.8417\n",
            "Epoch 48/250\n",
            "64/64 [==============================] - 50s 787ms/step - loss: 0.1951 - accuracy: 0.9269 - val_loss: 0.6742 - val_accuracy: 0.7972\n",
            "Epoch 49/250\n",
            "64/64 [==============================] - 49s 760ms/step - loss: 0.1927 - accuracy: 0.9205 - val_loss: 0.4984 - val_accuracy: 0.8389\n",
            "Epoch 50/250\n",
            "64/64 [==============================] - 52s 811ms/step - loss: 0.1874 - accuracy: 0.9220 - val_loss: 0.2020 - val_accuracy: 0.9000\n",
            "Epoch 51/250\n",
            "64/64 [==============================] - 50s 785ms/step - loss: 0.1768 - accuracy: 0.9333 - val_loss: 0.1455 - val_accuracy: 0.9472\n",
            "Epoch 52/250\n",
            "64/64 [==============================] - 48s 753ms/step - loss: 0.1829 - accuracy: 0.9318 - val_loss: 0.8076 - val_accuracy: 0.7222\n",
            "Epoch 53/250\n",
            "64/64 [==============================] - 48s 757ms/step - loss: 0.1816 - accuracy: 0.9357 - val_loss: 0.2955 - val_accuracy: 0.8944\n",
            "Epoch 54/250\n",
            "64/64 [==============================] - 49s 764ms/step - loss: 0.1652 - accuracy: 0.9323 - val_loss: 0.1837 - val_accuracy: 0.9306\n",
            "Epoch 55/250\n",
            "64/64 [==============================] - 51s 805ms/step - loss: 0.1751 - accuracy: 0.9308 - val_loss: 0.1295 - val_accuracy: 0.9444\n",
            "Epoch 56/250\n",
            "64/64 [==============================] - 49s 762ms/step - loss: 0.1622 - accuracy: 0.9347 - val_loss: 0.6342 - val_accuracy: 0.8250\n",
            "Epoch 57/250\n",
            "64/64 [==============================] - 50s 770ms/step - loss: 0.1752 - accuracy: 0.9298 - val_loss: 0.3343 - val_accuracy: 0.9000\n",
            "Epoch 58/250\n",
            "64/64 [==============================] - 52s 812ms/step - loss: 0.1607 - accuracy: 0.9362 - val_loss: 0.1800 - val_accuracy: 0.9389\n",
            "Epoch 59/250\n",
            "64/64 [==============================] - 53s 826ms/step - loss: 0.1670 - accuracy: 0.9357 - val_loss: 0.1894 - val_accuracy: 0.9278\n",
            "Epoch 60/250\n",
            "64/64 [==============================] - 51s 805ms/step - loss: 0.1780 - accuracy: 0.9259 - val_loss: 0.2595 - val_accuracy: 0.9056\n",
            "Epoch 61/250\n",
            "64/64 [==============================] - 49s 760ms/step - loss: 0.1724 - accuracy: 0.9289 - val_loss: 0.4820 - val_accuracy: 0.8528\n",
            "Epoch 62/250\n",
            "64/64 [==============================] - 50s 779ms/step - loss: 0.2065 - accuracy: 0.9181 - val_loss: 0.1997 - val_accuracy: 0.9167\n",
            "Epoch 63/250\n",
            "64/64 [==============================] - 51s 804ms/step - loss: 0.1614 - accuracy: 0.9392 - val_loss: 0.1519 - val_accuracy: 0.9389\n",
            "Epoch 64/250\n",
            "64/64 [==============================] - 49s 765ms/step - loss: 0.1500 - accuracy: 0.9406 - val_loss: 0.2329 - val_accuracy: 0.9333\n",
            "Epoch 65/250\n",
            "64/64 [==============================] - 52s 810ms/step - loss: 0.1758 - accuracy: 0.9362 - val_loss: 0.2464 - val_accuracy: 0.9083\n",
            "Epoch 66/250\n",
            "64/64 [==============================] - 53s 822ms/step - loss: 0.1513 - accuracy: 0.9392 - val_loss: 0.5444 - val_accuracy: 0.8389\n",
            "Epoch 67/250\n",
            "64/64 [==============================] - 50s 779ms/step - loss: 0.1662 - accuracy: 0.9372 - val_loss: 0.1669 - val_accuracy: 0.9472\n",
            "Epoch 68/250\n",
            "64/64 [==============================] - 52s 811ms/step - loss: 0.1645 - accuracy: 0.9342 - val_loss: 0.2751 - val_accuracy: 0.9111\n",
            "Epoch 69/250\n",
            "64/64 [==============================] - 49s 765ms/step - loss: 0.1574 - accuracy: 0.9416 - val_loss: 0.2443 - val_accuracy: 0.9167\n",
            "Epoch 70/250\n",
            "64/64 [==============================] - 52s 807ms/step - loss: 0.1649 - accuracy: 0.9372 - val_loss: 0.2108 - val_accuracy: 0.9139\n",
            "Epoch 71/250\n",
            "64/64 [==============================] - 51s 799ms/step - loss: 0.1529 - accuracy: 0.9441 - val_loss: 0.2433 - val_accuracy: 0.9028\n",
            "Epoch 72/250\n",
            "64/64 [==============================] - 49s 756ms/step - loss: 0.1586 - accuracy: 0.9401 - val_loss: 0.2267 - val_accuracy: 0.9111\n",
            "Epoch 73/250\n",
            "64/64 [==============================] - 52s 809ms/step - loss: 0.1549 - accuracy: 0.9367 - val_loss: 0.4316 - val_accuracy: 0.8500\n",
            "Epoch 74/250\n",
            "64/64 [==============================] - 52s 810ms/step - loss: 0.1573 - accuracy: 0.9401 - val_loss: 0.1247 - val_accuracy: 0.9583\n",
            "Epoch 75/250\n",
            "64/64 [==============================] - 49s 760ms/step - loss: 0.1740 - accuracy: 0.9357 - val_loss: 0.1582 - val_accuracy: 0.9361\n",
            "Epoch 76/250\n",
            "64/64 [==============================] - 48s 756ms/step - loss: 0.1501 - accuracy: 0.9426 - val_loss: 0.1596 - val_accuracy: 0.9472\n",
            "Epoch 77/250\n",
            "64/64 [==============================] - 50s 789ms/step - loss: 0.1515 - accuracy: 0.9426 - val_loss: 0.0972 - val_accuracy: 0.9667\n",
            "Epoch 78/250\n",
            "64/64 [==============================] - 48s 739ms/step - loss: 0.1715 - accuracy: 0.9377 - val_loss: 0.1208 - val_accuracy: 0.9528\n",
            "Epoch 79/250\n",
            "64/64 [==============================] - 51s 798ms/step - loss: 0.1500 - accuracy: 0.9421 - val_loss: 0.1364 - val_accuracy: 0.9361\n",
            "Epoch 80/250\n",
            "64/64 [==============================] - 50s 789ms/step - loss: 0.1348 - accuracy: 0.9460 - val_loss: 0.2912 - val_accuracy: 0.9056\n",
            "Epoch 81/250\n",
            "64/64 [==============================] - 48s 745ms/step - loss: 0.1555 - accuracy: 0.9392 - val_loss: 0.1951 - val_accuracy: 0.9194\n",
            "Epoch 82/250\n",
            "64/64 [==============================] - 51s 792ms/step - loss: 0.1578 - accuracy: 0.9431 - val_loss: 0.3091 - val_accuracy: 0.8833\n",
            "Epoch 83/250\n",
            "64/64 [==============================] - 51s 802ms/step - loss: 0.1479 - accuracy: 0.9485 - val_loss: 0.2550 - val_accuracy: 0.9083\n",
            "Epoch 84/250\n",
            "64/64 [==============================] - 51s 792ms/step - loss: 0.1494 - accuracy: 0.9406 - val_loss: 0.5002 - val_accuracy: 0.8194\n",
            "Epoch 85/250\n",
            "64/64 [==============================] - 50s 777ms/step - loss: 0.1517 - accuracy: 0.9446 - val_loss: 0.1584 - val_accuracy: 0.9389\n",
            "Epoch 86/250\n",
            "64/64 [==============================] - 50s 774ms/step - loss: 0.1199 - accuracy: 0.9465 - val_loss: 0.2354 - val_accuracy: 0.9250\n",
            "Epoch 87/250\n",
            "64/64 [==============================] - 48s 752ms/step - loss: 0.1667 - accuracy: 0.9396 - val_loss: 0.8442 - val_accuracy: 0.8167\n",
            "Epoch 88/250\n",
            "64/64 [==============================] - 52s 807ms/step - loss: 0.1527 - accuracy: 0.9436 - val_loss: 0.2393 - val_accuracy: 0.9194\n",
            "Epoch 89/250\n",
            "64/64 [==============================] - 48s 751ms/step - loss: 0.1505 - accuracy: 0.9421 - val_loss: 0.3213 - val_accuracy: 0.8889\n",
            "Epoch 90/250\n",
            "64/64 [==============================] - 52s 810ms/step - loss: 0.1441 - accuracy: 0.9450 - val_loss: 0.1336 - val_accuracy: 0.9556\n",
            "Epoch 91/250\n",
            "64/64 [==============================] - 48s 743ms/step - loss: 0.1539 - accuracy: 0.9382 - val_loss: 0.1417 - val_accuracy: 0.9389\n",
            "Epoch 92/250\n",
            "64/64 [==============================] - 51s 793ms/step - loss: 0.1220 - accuracy: 0.9573 - val_loss: 0.1544 - val_accuracy: 0.9472\n",
            "Epoch 93/250\n",
            "64/64 [==============================] - 49s 766ms/step - loss: 0.1457 - accuracy: 0.9485 - val_loss: 0.1656 - val_accuracy: 0.9333\n",
            "Epoch 94/250\n",
            "64/64 [==============================] - 48s 757ms/step - loss: 0.1460 - accuracy: 0.9416 - val_loss: 0.1403 - val_accuracy: 0.9472\n",
            "Epoch 95/250\n",
            "64/64 [==============================] - 48s 746ms/step - loss: 0.1343 - accuracy: 0.9504 - val_loss: 0.1515 - val_accuracy: 0.9278\n",
            "Epoch 96/250\n",
            "64/64 [==============================] - 52s 811ms/step - loss: 0.1460 - accuracy: 0.9426 - val_loss: 0.2112 - val_accuracy: 0.9167\n",
            "Epoch 97/250\n",
            "64/64 [==============================] - 48s 747ms/step - loss: 0.1140 - accuracy: 0.9578 - val_loss: 0.1252 - val_accuracy: 0.9556\n",
            "Epoch 98/250\n",
            "64/64 [==============================] - 51s 791ms/step - loss: 0.1424 - accuracy: 0.9406 - val_loss: 0.3433 - val_accuracy: 0.8750\n",
            "Epoch 99/250\n",
            "64/64 [==============================] - 51s 792ms/step - loss: 0.1365 - accuracy: 0.9529 - val_loss: 0.5392 - val_accuracy: 0.8472\n",
            "Epoch 100/250\n",
            "64/64 [==============================] - 49s 759ms/step - loss: 0.1095 - accuracy: 0.9553 - val_loss: 1.0476 - val_accuracy: 0.8111\n",
            "Epoch 101/250\n",
            "64/64 [==============================] - 50s 773ms/step - loss: 0.1245 - accuracy: 0.9558 - val_loss: 0.8214 - val_accuracy: 0.8250\n",
            "Epoch 102/250\n",
            "64/64 [==============================] - 51s 792ms/step - loss: 0.1560 - accuracy: 0.9387 - val_loss: 0.3236 - val_accuracy: 0.8944\n",
            "Epoch 103/250\n",
            "64/64 [==============================] - 52s 816ms/step - loss: 0.1377 - accuracy: 0.9490 - val_loss: 0.1552 - val_accuracy: 0.9444\n",
            "Epoch 104/250\n",
            "64/64 [==============================] - 49s 763ms/step - loss: 0.1211 - accuracy: 0.9500 - val_loss: 0.3277 - val_accuracy: 0.9056\n",
            "Epoch 105/250\n",
            "64/64 [==============================] - 50s 766ms/step - loss: 0.1197 - accuracy: 0.9539 - val_loss: 0.1178 - val_accuracy: 0.9583\n",
            "Epoch 106/250\n",
            "64/64 [==============================] - 52s 811ms/step - loss: 0.1336 - accuracy: 0.9534 - val_loss: 0.5650 - val_accuracy: 0.8139\n",
            "Epoch 107/250\n",
            "64/64 [==============================] - 48s 757ms/step - loss: 0.1320 - accuracy: 0.9514 - val_loss: 0.1540 - val_accuracy: 0.9389\n",
            "Epoch 108/250\n",
            "64/64 [==============================] - 50s 779ms/step - loss: 0.1384 - accuracy: 0.9455 - val_loss: 0.1936 - val_accuracy: 0.9306\n",
            "Epoch 109/250\n",
            "64/64 [==============================] - 50s 787ms/step - loss: 0.1395 - accuracy: 0.9495 - val_loss: 0.3215 - val_accuracy: 0.9167\n",
            "Epoch 110/250\n",
            "64/64 [==============================] - 52s 818ms/step - loss: 0.1439 - accuracy: 0.9436 - val_loss: 0.3752 - val_accuracy: 0.8972\n",
            "Epoch 111/250\n",
            "64/64 [==============================] - 51s 790ms/step - loss: 0.1306 - accuracy: 0.9539 - val_loss: 0.1799 - val_accuracy: 0.9444\n",
            "Epoch 112/250\n",
            "64/64 [==============================] - 51s 794ms/step - loss: 0.1126 - accuracy: 0.9588 - val_loss: 0.1540 - val_accuracy: 0.9583\n",
            "Epoch 113/250\n",
            "64/64 [==============================] - 51s 803ms/step - loss: 0.1138 - accuracy: 0.9583 - val_loss: 0.1781 - val_accuracy: 0.9306\n",
            "Epoch 114/250\n",
            "64/64 [==============================] - 48s 751ms/step - loss: 0.1247 - accuracy: 0.9549 - val_loss: 0.3648 - val_accuracy: 0.8778\n",
            "Epoch 115/250\n",
            "64/64 [==============================] - 51s 796ms/step - loss: 0.1272 - accuracy: 0.9495 - val_loss: 0.1797 - val_accuracy: 0.9250\n",
            "Epoch 116/250\n",
            "64/64 [==============================] - 51s 800ms/step - loss: 0.1305 - accuracy: 0.9519 - val_loss: 0.1426 - val_accuracy: 0.9444\n",
            "Epoch 117/250\n",
            "64/64 [==============================] - 49s 758ms/step - loss: 0.1243 - accuracy: 0.9544 - val_loss: 0.3772 - val_accuracy: 0.8861\n",
            "Epoch 118/250\n",
            "64/64 [==============================] - 52s 800ms/step - loss: 0.1374 - accuracy: 0.9495 - val_loss: 0.3606 - val_accuracy: 0.8889\n",
            "Epoch 119/250\n",
            "64/64 [==============================] - 52s 808ms/step - loss: 0.1331 - accuracy: 0.9519 - val_loss: 0.1683 - val_accuracy: 0.9528\n",
            "Epoch 120/250\n",
            "64/64 [==============================] - 48s 751ms/step - loss: 0.1372 - accuracy: 0.9514 - val_loss: 0.1700 - val_accuracy: 0.9361\n",
            "Epoch 121/250\n",
            "64/64 [==============================] - 50s 776ms/step - loss: 0.1292 - accuracy: 0.9519 - val_loss: 0.1727 - val_accuracy: 0.9444\n",
            "Epoch 122/250\n",
            "64/64 [==============================] - 51s 791ms/step - loss: 0.1078 - accuracy: 0.9573 - val_loss: 0.2208 - val_accuracy: 0.9194\n",
            "Epoch 123/250\n",
            "64/64 [==============================] - 48s 751ms/step - loss: 0.1100 - accuracy: 0.9578 - val_loss: 0.1352 - val_accuracy: 0.9639\n",
            "Epoch 124/250\n",
            "64/64 [==============================] - 47s 741ms/step - loss: 0.1373 - accuracy: 0.9470 - val_loss: 0.2057 - val_accuracy: 0.9167\n",
            "Epoch 125/250\n",
            "64/64 [==============================] - 50s 769ms/step - loss: 0.1447 - accuracy: 0.9450 - val_loss: 0.2834 - val_accuracy: 0.9028\n",
            "Epoch 126/250\n",
            "64/64 [==============================] - 52s 807ms/step - loss: 0.1284 - accuracy: 0.9573 - val_loss: 0.3668 - val_accuracy: 0.8667\n",
            "Epoch 127/250\n",
            "64/64 [==============================] - 50s 789ms/step - loss: 0.1143 - accuracy: 0.9598 - val_loss: 0.2140 - val_accuracy: 0.9528\n",
            "Epoch 128/250\n",
            "64/64 [==============================] - 48s 745ms/step - loss: 0.1123 - accuracy: 0.9544 - val_loss: 0.1197 - val_accuracy: 0.9583\n",
            "Epoch 129/250\n",
            "64/64 [==============================] - 52s 815ms/step - loss: 0.1279 - accuracy: 0.9544 - val_loss: 0.1657 - val_accuracy: 0.9583\n",
            "Epoch 130/250\n",
            "64/64 [==============================] - 48s 749ms/step - loss: 0.1414 - accuracy: 0.9500 - val_loss: 0.2211 - val_accuracy: 0.9417\n",
            "Epoch 131/250\n",
            "64/64 [==============================] - 52s 798ms/step - loss: 0.1030 - accuracy: 0.9657 - val_loss: 0.1425 - val_accuracy: 0.9472\n",
            "Epoch 132/250\n",
            "64/64 [==============================] - 51s 803ms/step - loss: 0.1130 - accuracy: 0.9598 - val_loss: 0.3091 - val_accuracy: 0.8972\n",
            "Epoch 133/250\n",
            "64/64 [==============================] - 49s 768ms/step - loss: 0.1076 - accuracy: 0.9563 - val_loss: 0.1327 - val_accuracy: 0.9583\n",
            "Epoch 134/250\n",
            "64/64 [==============================] - 51s 795ms/step - loss: 0.1114 - accuracy: 0.9544 - val_loss: 0.1344 - val_accuracy: 0.9417\n",
            "Epoch 135/250\n",
            "64/64 [==============================] - 48s 754ms/step - loss: 0.1112 - accuracy: 0.9553 - val_loss: 0.2878 - val_accuracy: 0.9083\n",
            "Epoch 136/250\n",
            "64/64 [==============================] - 48s 756ms/step - loss: 0.1479 - accuracy: 0.9426 - val_loss: 0.1298 - val_accuracy: 0.9583\n",
            "Epoch 137/250\n",
            "64/64 [==============================] - 50s 775ms/step - loss: 0.1197 - accuracy: 0.9583 - val_loss: 0.1222 - val_accuracy: 0.9611\n",
            "Epoch 138/250\n",
            "64/64 [==============================] - 48s 746ms/step - loss: 0.1150 - accuracy: 0.9524 - val_loss: 0.1216 - val_accuracy: 0.9583\n",
            "Epoch 139/250\n",
            "64/64 [==============================] - 51s 793ms/step - loss: 0.0949 - accuracy: 0.9666 - val_loss: 0.3667 - val_accuracy: 0.8556\n",
            "Epoch 140/250\n",
            "64/64 [==============================] - 52s 805ms/step - loss: 0.0901 - accuracy: 0.9676 - val_loss: 0.1470 - val_accuracy: 0.9528\n",
            "Epoch 141/250\n",
            "64/64 [==============================] - 48s 752ms/step - loss: 0.1242 - accuracy: 0.9603 - val_loss: 0.0959 - val_accuracy: 0.9694\n",
            "Epoch 142/250\n",
            "64/64 [==============================] - 50s 777ms/step - loss: 0.1039 - accuracy: 0.9607 - val_loss: 0.1783 - val_accuracy: 0.9306\n",
            "Epoch 143/250\n",
            "64/64 [==============================] - 51s 803ms/step - loss: 0.0935 - accuracy: 0.9691 - val_loss: 0.6321 - val_accuracy: 0.8389\n",
            "Epoch 144/250\n",
            "64/64 [==============================] - 49s 760ms/step - loss: 0.1083 - accuracy: 0.9593 - val_loss: 0.8925 - val_accuracy: 0.8306\n",
            "Epoch 145/250\n",
            "64/64 [==============================] - 51s 789ms/step - loss: 0.1491 - accuracy: 0.9495 - val_loss: 0.2086 - val_accuracy: 0.9222\n",
            "Epoch 146/250\n",
            "64/64 [==============================] - 52s 807ms/step - loss: 0.0977 - accuracy: 0.9652 - val_loss: 0.0866 - val_accuracy: 0.9667\n",
            "Epoch 147/250\n",
            "64/64 [==============================] - 49s 767ms/step - loss: 0.1195 - accuracy: 0.9539 - val_loss: 0.2573 - val_accuracy: 0.9167\n",
            "Epoch 148/250\n",
            "64/64 [==============================] - 53s 815ms/step - loss: 0.1099 - accuracy: 0.9598 - val_loss: 0.0953 - val_accuracy: 0.9667\n",
            "Epoch 149/250\n",
            "64/64 [==============================] - 52s 815ms/step - loss: 0.0945 - accuracy: 0.9666 - val_loss: 0.1450 - val_accuracy: 0.9639\n",
            "Epoch 150/250\n",
            "64/64 [==============================] - 54s 842ms/step - loss: 0.1077 - accuracy: 0.9593 - val_loss: 0.1928 - val_accuracy: 0.9361\n",
            "Epoch 151/250\n",
            "64/64 [==============================] - 50s 781ms/step - loss: 0.0964 - accuracy: 0.9637 - val_loss: 0.3449 - val_accuracy: 0.8861\n",
            "Epoch 152/250\n",
            "64/64 [==============================] - 51s 795ms/step - loss: 0.1191 - accuracy: 0.9583 - val_loss: 0.1454 - val_accuracy: 0.9389\n",
            "Epoch 153/250\n",
            "64/64 [==============================] - 52s 815ms/step - loss: 0.1128 - accuracy: 0.9529 - val_loss: 0.1452 - val_accuracy: 0.9500\n",
            "Epoch 154/250\n",
            "64/64 [==============================] - 50s 783ms/step - loss: 0.0960 - accuracy: 0.9661 - val_loss: 0.1353 - val_accuracy: 0.9611\n",
            "Epoch 155/250\n",
            "64/64 [==============================] - 51s 802ms/step - loss: 0.1069 - accuracy: 0.9607 - val_loss: 0.2498 - val_accuracy: 0.9028\n",
            "Epoch 156/250\n",
            "64/64 [==============================] - 49s 761ms/step - loss: 0.1028 - accuracy: 0.9652 - val_loss: 0.1095 - val_accuracy: 0.9722\n",
            "Epoch 157/250\n",
            "64/64 [==============================] - 48s 752ms/step - loss: 0.1004 - accuracy: 0.9603 - val_loss: 0.2060 - val_accuracy: 0.9083\n",
            "Epoch 158/250\n",
            "64/64 [==============================] - 50s 773ms/step - loss: 0.1210 - accuracy: 0.9519 - val_loss: 0.1457 - val_accuracy: 0.9583\n",
            "Epoch 159/250\n",
            "64/64 [==============================] - 51s 794ms/step - loss: 0.1147 - accuracy: 0.9583 - val_loss: 0.1855 - val_accuracy: 0.9278\n",
            "Epoch 160/250\n",
            "64/64 [==============================] - 49s 770ms/step - loss: 0.1069 - accuracy: 0.9627 - val_loss: 0.1022 - val_accuracy: 0.9694\n",
            "Epoch 161/250\n",
            "64/64 [==============================] - 50s 773ms/step - loss: 0.1074 - accuracy: 0.9588 - val_loss: 0.2651 - val_accuracy: 0.9194\n",
            "Epoch 162/250\n",
            "64/64 [==============================] - 50s 770ms/step - loss: 0.1054 - accuracy: 0.9622 - val_loss: 0.3159 - val_accuracy: 0.8972\n",
            "Epoch 163/250\n",
            "64/64 [==============================] - 54s 842ms/step - loss: 0.1099 - accuracy: 0.9603 - val_loss: 0.2598 - val_accuracy: 0.9306\n",
            "Epoch 164/250\n",
            "64/64 [==============================] - 48s 749ms/step - loss: 0.1044 - accuracy: 0.9617 - val_loss: 0.1132 - val_accuracy: 0.9611\n",
            "Epoch 165/250\n",
            "64/64 [==============================] - 51s 786ms/step - loss: 0.0966 - accuracy: 0.9622 - val_loss: 0.1748 - val_accuracy: 0.9389\n",
            "Epoch 166/250\n",
            "64/64 [==============================] - 51s 802ms/step - loss: 0.1046 - accuracy: 0.9622 - val_loss: 0.1719 - val_accuracy: 0.9278\n",
            "Epoch 167/250\n",
            "64/64 [==============================] - 51s 804ms/step - loss: 0.1073 - accuracy: 0.9617 - val_loss: 0.2362 - val_accuracy: 0.9083\n",
            "Epoch 168/250\n",
            "64/64 [==============================] - 47s 736ms/step - loss: 0.1074 - accuracy: 0.9573 - val_loss: 0.2943 - val_accuracy: 0.9111\n",
            "Epoch 169/250\n",
            "64/64 [==============================] - 48s 758ms/step - loss: 0.1051 - accuracy: 0.9558 - val_loss: 0.4140 - val_accuracy: 0.8833\n",
            "Epoch 170/250\n",
            "64/64 [==============================] - 51s 796ms/step - loss: 0.1033 - accuracy: 0.9622 - val_loss: 0.1637 - val_accuracy: 0.9417\n",
            "Epoch 171/250\n",
            "64/64 [==============================] - 52s 807ms/step - loss: 0.1050 - accuracy: 0.9657 - val_loss: 0.1190 - val_accuracy: 0.9611\n",
            "Epoch 172/250\n",
            "64/64 [==============================] - 51s 797ms/step - loss: 0.0965 - accuracy: 0.9647 - val_loss: 0.1003 - val_accuracy: 0.9639\n",
            "Epoch 173/250\n",
            "64/64 [==============================] - 51s 805ms/step - loss: 0.1241 - accuracy: 0.9524 - val_loss: 0.1200 - val_accuracy: 0.9583\n",
            "Epoch 174/250\n",
            "64/64 [==============================] - 51s 801ms/step - loss: 0.0959 - accuracy: 0.9671 - val_loss: 0.1972 - val_accuracy: 0.9361\n",
            "Epoch 175/250\n",
            "64/64 [==============================] - 49s 758ms/step - loss: 0.1090 - accuracy: 0.9588 - val_loss: 0.1708 - val_accuracy: 0.9444\n",
            "Epoch 176/250\n",
            "64/64 [==============================] - 51s 797ms/step - loss: 0.1026 - accuracy: 0.9622 - val_loss: 0.2372 - val_accuracy: 0.9167\n",
            "Epoch 177/250\n",
            "64/64 [==============================] - 52s 820ms/step - loss: 0.0993 - accuracy: 0.9661 - val_loss: 0.1315 - val_accuracy: 0.9500\n",
            "Epoch 178/250\n",
            "64/64 [==============================] - 48s 756ms/step - loss: 0.1115 - accuracy: 0.9573 - val_loss: 0.1819 - val_accuracy: 0.9278\n",
            "Epoch 179/250\n",
            "64/64 [==============================] - 52s 798ms/step - loss: 0.0874 - accuracy: 0.9681 - val_loss: 0.1494 - val_accuracy: 0.9306\n",
            "Epoch 180/250\n",
            "64/64 [==============================] - 52s 813ms/step - loss: 0.0918 - accuracy: 0.9632 - val_loss: 0.1524 - val_accuracy: 0.9417\n",
            "Epoch 181/250\n",
            "64/64 [==============================] - 50s 781ms/step - loss: 0.1017 - accuracy: 0.9588 - val_loss: 0.1946 - val_accuracy: 0.9361\n",
            "Epoch 182/250\n",
            "64/64 [==============================] - 52s 820ms/step - loss: 0.0983 - accuracy: 0.9652 - val_loss: 0.1120 - val_accuracy: 0.9750\n",
            "Epoch 183/250\n",
            "64/64 [==============================] - 49s 766ms/step - loss: 0.0876 - accuracy: 0.9671 - val_loss: 0.1423 - val_accuracy: 0.9667\n",
            "Epoch 184/250\n",
            "64/64 [==============================] - 48s 753ms/step - loss: 0.0936 - accuracy: 0.9622 - val_loss: 0.1440 - val_accuracy: 0.9556\n",
            "Epoch 185/250\n",
            "64/64 [==============================] - 51s 800ms/step - loss: 0.0945 - accuracy: 0.9696 - val_loss: 0.2283 - val_accuracy: 0.9167\n",
            "Epoch 186/250\n",
            "64/64 [==============================] - 48s 746ms/step - loss: 0.0956 - accuracy: 0.9647 - val_loss: 0.1145 - val_accuracy: 0.9583\n",
            "Epoch 187/250\n",
            "64/64 [==============================] - 52s 806ms/step - loss: 0.1132 - accuracy: 0.9598 - val_loss: 0.1136 - val_accuracy: 0.9528\n",
            "Epoch 188/250\n",
            "64/64 [==============================] - 50s 777ms/step - loss: 0.0901 - accuracy: 0.9661 - val_loss: 0.1143 - val_accuracy: 0.9611\n",
            "Epoch 189/250\n",
            "64/64 [==============================] - 52s 810ms/step - loss: 0.0779 - accuracy: 0.9696 - val_loss: 0.1895 - val_accuracy: 0.9556\n",
            "Epoch 190/250\n",
            "64/64 [==============================] - 49s 768ms/step - loss: 0.0800 - accuracy: 0.9686 - val_loss: 0.2287 - val_accuracy: 0.9306\n",
            "Epoch 191/250\n",
            "64/64 [==============================] - 49s 768ms/step - loss: 0.0809 - accuracy: 0.9676 - val_loss: 0.1161 - val_accuracy: 0.9583\n",
            "Epoch 192/250\n",
            "64/64 [==============================] - 49s 767ms/step - loss: 0.0904 - accuracy: 0.9666 - val_loss: 0.2094 - val_accuracy: 0.9250\n",
            "Epoch 193/250\n",
            "64/64 [==============================] - 50s 778ms/step - loss: 0.1067 - accuracy: 0.9637 - val_loss: 0.1104 - val_accuracy: 0.9611\n",
            "Epoch 194/250\n",
            "64/64 [==============================] - 51s 799ms/step - loss: 0.0736 - accuracy: 0.9706 - val_loss: 0.1341 - val_accuracy: 0.9611\n",
            "Epoch 195/250\n",
            "64/64 [==============================] - 51s 803ms/step - loss: 0.0793 - accuracy: 0.9720 - val_loss: 0.1055 - val_accuracy: 0.9667\n",
            "Epoch 196/250\n",
            "64/64 [==============================] - 50s 773ms/step - loss: 0.0869 - accuracy: 0.9735 - val_loss: 0.1311 - val_accuracy: 0.9667\n",
            "Epoch 197/250\n",
            "64/64 [==============================] - 54s 828ms/step - loss: 0.1113 - accuracy: 0.9553 - val_loss: 0.1116 - val_accuracy: 0.9583\n",
            "Epoch 198/250\n",
            "64/64 [==============================] - 52s 806ms/step - loss: 0.0839 - accuracy: 0.9666 - val_loss: 0.1485 - val_accuracy: 0.9694\n",
            "Epoch 199/250\n",
            "64/64 [==============================] - 52s 811ms/step - loss: 0.0972 - accuracy: 0.9666 - val_loss: 0.0867 - val_accuracy: 0.9639\n",
            "Epoch 200/250\n",
            "64/64 [==============================] - 49s 763ms/step - loss: 0.0875 - accuracy: 0.9681 - val_loss: 0.1321 - val_accuracy: 0.9639\n",
            "Epoch 201/250\n",
            "64/64 [==============================] - 51s 784ms/step - loss: 0.0874 - accuracy: 0.9691 - val_loss: 0.1907 - val_accuracy: 0.9500\n",
            "Epoch 202/250\n",
            "64/64 [==============================] - 51s 795ms/step - loss: 0.0906 - accuracy: 0.9661 - val_loss: 0.1004 - val_accuracy: 0.9667\n",
            "Epoch 203/250\n",
            "64/64 [==============================] - 53s 823ms/step - loss: 0.0976 - accuracy: 0.9671 - val_loss: 0.1076 - val_accuracy: 0.9611\n",
            "Epoch 204/250\n",
            "64/64 [==============================] - 49s 766ms/step - loss: 0.0898 - accuracy: 0.9632 - val_loss: 0.1259 - val_accuracy: 0.9583\n",
            "Epoch 205/250\n",
            "64/64 [==============================] - 52s 810ms/step - loss: 0.1009 - accuracy: 0.9637 - val_loss: 0.0929 - val_accuracy: 0.9722\n",
            "Epoch 206/250\n",
            "64/64 [==============================] - 48s 752ms/step - loss: 0.0922 - accuracy: 0.9666 - val_loss: 0.9239 - val_accuracy: 0.8500\n",
            "Epoch 207/250\n",
            "64/64 [==============================] - 52s 815ms/step - loss: 0.1027 - accuracy: 0.9598 - val_loss: 0.2243 - val_accuracy: 0.9194\n",
            "Epoch 208/250\n",
            "64/64 [==============================] - 48s 747ms/step - loss: 0.0871 - accuracy: 0.9676 - val_loss: 0.1464 - val_accuracy: 0.9583\n",
            "Epoch 209/250\n",
            "64/64 [==============================] - 53s 834ms/step - loss: 0.0843 - accuracy: 0.9686 - val_loss: 0.1740 - val_accuracy: 0.9417\n",
            "Epoch 210/250\n",
            "64/64 [==============================] - 50s 782ms/step - loss: 0.0928 - accuracy: 0.9686 - val_loss: 0.2526 - val_accuracy: 0.9250\n",
            "Epoch 211/250\n",
            "64/64 [==============================] - 49s 761ms/step - loss: 0.0851 - accuracy: 0.9735 - val_loss: 0.2207 - val_accuracy: 0.9444\n",
            "Epoch 212/250\n",
            "64/64 [==============================] - 53s 820ms/step - loss: 0.0821 - accuracy: 0.9671 - val_loss: 0.1489 - val_accuracy: 0.9583\n",
            "Epoch 213/250\n",
            "64/64 [==============================] - 53s 832ms/step - loss: 0.0867 - accuracy: 0.9671 - val_loss: 0.2997 - val_accuracy: 0.9278\n",
            "Epoch 214/250\n",
            "64/64 [==============================] - 52s 806ms/step - loss: 0.0879 - accuracy: 0.9691 - val_loss: 0.2833 - val_accuracy: 0.9056\n",
            "Epoch 215/250\n",
            "64/64 [==============================] - 53s 822ms/step - loss: 0.0782 - accuracy: 0.9725 - val_loss: 0.1454 - val_accuracy: 0.9556\n",
            "Epoch 216/250\n",
            "64/64 [==============================] - 49s 771ms/step - loss: 0.1199 - accuracy: 0.9583 - val_loss: 0.3590 - val_accuracy: 0.9056\n",
            "Epoch 217/250\n",
            "64/64 [==============================] - 52s 805ms/step - loss: 0.1274 - accuracy: 0.9534 - val_loss: 0.5039 - val_accuracy: 0.8556\n",
            "Epoch 218/250\n",
            "64/64 [==============================] - 52s 821ms/step - loss: 0.0699 - accuracy: 0.9720 - val_loss: 0.1225 - val_accuracy: 0.9611\n",
            "Epoch 219/250\n",
            "64/64 [==============================] - 52s 811ms/step - loss: 0.0872 - accuracy: 0.9720 - val_loss: 0.1468 - val_accuracy: 0.9528\n",
            "Epoch 220/250\n",
            "64/64 [==============================] - 50s 776ms/step - loss: 0.0848 - accuracy: 0.9701 - val_loss: 0.1733 - val_accuracy: 0.9417\n",
            "Epoch 221/250\n",
            "64/64 [==============================] - 50s 782ms/step - loss: 0.0857 - accuracy: 0.9657 - val_loss: 0.1111 - val_accuracy: 0.9694\n",
            "Epoch 222/250\n",
            "64/64 [==============================] - 51s 792ms/step - loss: 0.0766 - accuracy: 0.9740 - val_loss: 0.1296 - val_accuracy: 0.9583\n",
            "Epoch 223/250\n",
            "64/64 [==============================] - 52s 804ms/step - loss: 0.0807 - accuracy: 0.9715 - val_loss: 0.2518 - val_accuracy: 0.9417\n",
            "Epoch 224/250\n",
            "64/64 [==============================] - 53s 830ms/step - loss: 0.0889 - accuracy: 0.9696 - val_loss: 0.1566 - val_accuracy: 0.9556\n",
            "Epoch 225/250\n",
            "64/64 [==============================] - 52s 806ms/step - loss: 0.0879 - accuracy: 0.9681 - val_loss: 0.2529 - val_accuracy: 0.9139\n",
            "Epoch 226/250\n",
            "64/64 [==============================] - 50s 771ms/step - loss: 0.0907 - accuracy: 0.9657 - val_loss: 0.1892 - val_accuracy: 0.9306\n",
            "Epoch 227/250\n",
            "64/64 [==============================] - 53s 814ms/step - loss: 0.0880 - accuracy: 0.9706 - val_loss: 0.2357 - val_accuracy: 0.9361\n",
            "Epoch 228/250\n",
            "64/64 [==============================] - 53s 835ms/step - loss: 0.0891 - accuracy: 0.9661 - val_loss: 0.1948 - val_accuracy: 0.9306\n",
            "Epoch 229/250\n",
            "64/64 [==============================] - 54s 849ms/step - loss: 0.0951 - accuracy: 0.9681 - val_loss: 0.1414 - val_accuracy: 0.9472\n",
            "Epoch 230/250\n",
            "64/64 [==============================] - 49s 760ms/step - loss: 0.0839 - accuracy: 0.9730 - val_loss: 0.1823 - val_accuracy: 0.9389\n",
            "Epoch 231/250\n",
            "64/64 [==============================] - 52s 804ms/step - loss: 0.0954 - accuracy: 0.9711 - val_loss: 0.1154 - val_accuracy: 0.9667\n",
            "Epoch 232/250\n",
            "64/64 [==============================] - 53s 823ms/step - loss: 0.0851 - accuracy: 0.9691 - val_loss: 0.2325 - val_accuracy: 0.9278\n",
            "Epoch 233/250\n",
            "64/64 [==============================] - 54s 850ms/step - loss: 0.0943 - accuracy: 0.9671 - val_loss: 0.1321 - val_accuracy: 0.9528\n",
            "Epoch 234/250\n",
            "64/64 [==============================] - 53s 826ms/step - loss: 0.1038 - accuracy: 0.9593 - val_loss: 0.1118 - val_accuracy: 0.9556\n",
            "Epoch 235/250\n",
            "64/64 [==============================] - 50s 775ms/step - loss: 0.0831 - accuracy: 0.9706 - val_loss: 0.2065 - val_accuracy: 0.9250\n",
            "Epoch 236/250\n",
            "64/64 [==============================] - 50s 779ms/step - loss: 0.0722 - accuracy: 0.9725 - val_loss: 0.1876 - val_accuracy: 0.9528\n",
            "Epoch 237/250\n",
            "64/64 [==============================] - 52s 807ms/step - loss: 0.0854 - accuracy: 0.9696 - val_loss: 0.1082 - val_accuracy: 0.9667\n",
            "Epoch 238/250\n",
            "64/64 [==============================] - 52s 816ms/step - loss: 0.0881 - accuracy: 0.9676 - val_loss: 0.0952 - val_accuracy: 0.9611\n",
            "Epoch 239/250\n",
            "64/64 [==============================] - 54s 847ms/step - loss: 0.0930 - accuracy: 0.9676 - val_loss: 0.1571 - val_accuracy: 0.9556\n",
            "Epoch 240/250\n",
            "64/64 [==============================] - 53s 822ms/step - loss: 0.0794 - accuracy: 0.9691 - val_loss: 0.1230 - val_accuracy: 0.9528\n",
            "Epoch 241/250\n",
            "64/64 [==============================] - 49s 772ms/step - loss: 0.0785 - accuracy: 0.9671 - val_loss: 0.1652 - val_accuracy: 0.9639\n",
            "Epoch 242/250\n",
            "64/64 [==============================] - 49s 763ms/step - loss: 0.0724 - accuracy: 0.9745 - val_loss: 0.1453 - val_accuracy: 0.9583\n",
            "Epoch 243/250\n",
            "64/64 [==============================] - 49s 772ms/step - loss: 0.0881 - accuracy: 0.9676 - val_loss: 0.1525 - val_accuracy: 0.9556\n",
            "Epoch 244/250\n",
            "64/64 [==============================] - 49s 762ms/step - loss: 0.0837 - accuracy: 0.9701 - val_loss: 0.1138 - val_accuracy: 0.9639\n",
            "Epoch 245/250\n",
            "64/64 [==============================] - 49s 766ms/step - loss: 0.0726 - accuracy: 0.9701 - val_loss: 0.3717 - val_accuracy: 0.9194\n",
            "Epoch 246/250\n",
            "64/64 [==============================] - 51s 783ms/step - loss: 0.0834 - accuracy: 0.9671 - val_loss: 0.1951 - val_accuracy: 0.9306\n",
            "Epoch 247/250\n",
            "64/64 [==============================] - 53s 828ms/step - loss: 0.0740 - accuracy: 0.9706 - val_loss: 0.1909 - val_accuracy: 0.9528\n",
            "Epoch 248/250\n",
            "64/64 [==============================] - 51s 794ms/step - loss: 0.1006 - accuracy: 0.9622 - val_loss: 0.4212 - val_accuracy: 0.8778\n",
            "Epoch 249/250\n",
            "64/64 [==============================] - 50s 781ms/step - loss: 0.0837 - accuracy: 0.9671 - val_loss: 0.1823 - val_accuracy: 0.9278\n",
            "Epoch 250/250\n",
            "64/64 [==============================] - 52s 809ms/step - loss: 0.0827 - accuracy: 0.9750 - val_loss: 0.1659 - val_accuracy: 0.9639\n"
          ]
        }
      ]
    },
    {
      "cell_type": "markdown",
      "source": [
        "# Guardar el modelo"
      ],
      "metadata": {
        "id": "iY9G2DbSKOLp"
      }
    },
    {
      "cell_type": "code",
      "source": [
        "modelo_AU.save('/content/drive/MyDrive/ProyectoIncendios/Redes/ProyectoInc/Incendios-Normal-cnn-ad.h5')"
      ],
      "metadata": {
        "colab": {
          "base_uri": "https://localhost:8080/"
        },
        "id": "aSLPLIZPbF-M",
        "outputId": "14be61a8-c216-4a6f-fbad-b40d339c29cc"
      },
      "execution_count": null,
      "outputs": [
        {
          "output_type": "stream",
          "name": "stderr",
          "text": [
            "/usr/local/lib/python3.10/dist-packages/keras/src/engine/training.py:3103: UserWarning: You are saving your model as an HDF5 file via `model.save()`. This file format is considered legacy. We recommend using instead the native Keras format, e.g. `model.save('my_model.keras')`.\n",
            "  saving_api.save_model(\n"
          ]
        }
      ]
    },
    {
      "cell_type": "markdown",
      "source": [
        "# Convertir a formato TensorFlow.js"
      ],
      "metadata": {
        "id": "EKTMz9a0KJjq"
      }
    },
    {
      "cell_type": "code",
      "source": [
        "!pip install tensorflowjs"
      ],
      "metadata": {
        "colab": {
          "base_uri": "https://localhost:8080/"
        },
        "id": "vkBG_z_IbGu5",
        "outputId": "c348ee09-e590-4930-af6c-d8071bce5438"
      },
      "execution_count": null,
      "outputs": [
        {
          "output_type": "stream",
          "name": "stdout",
          "text": [
            "Requirement already satisfied: tensorflowjs in /usr/local/lib/python3.10/dist-packages (4.13.0)\n",
            "Requirement already satisfied: flax>=0.7.2 in /usr/local/lib/python3.10/dist-packages (from tensorflowjs) (0.7.5)\n",
            "Requirement already satisfied: importlib_resources>=5.9.0 in /usr/local/lib/python3.10/dist-packages (from tensorflowjs) (6.1.1)\n",
            "Requirement already satisfied: jax>=0.4.13 in /usr/local/lib/python3.10/dist-packages (from tensorflowjs) (0.4.20)\n",
            "Requirement already satisfied: jaxlib>=0.4.13 in /usr/local/lib/python3.10/dist-packages (from tensorflowjs) (0.4.20+cuda11.cudnn86)\n",
            "Requirement already satisfied: tensorflow<3,>=2.13.0 in /usr/local/lib/python3.10/dist-packages (from tensorflowjs) (2.15.0)\n",
            "Requirement already satisfied: tensorflow-decision-forests>=1.5.0 in /usr/local/lib/python3.10/dist-packages (from tensorflowjs) (1.8.1)\n",
            "Requirement already satisfied: six<2,>=1.16.0 in /usr/local/lib/python3.10/dist-packages (from tensorflowjs) (1.16.0)\n",
            "Requirement already satisfied: tensorflow-hub>=0.14.0 in /usr/local/lib/python3.10/dist-packages (from tensorflowjs) (0.15.0)\n",
            "Requirement already satisfied: packaging~=23.1 in /usr/local/lib/python3.10/dist-packages (from tensorflowjs) (23.2)\n",
            "Requirement already satisfied: numpy>=1.22 in /usr/local/lib/python3.10/dist-packages (from flax>=0.7.2->tensorflowjs) (1.23.5)\n",
            "Requirement already satisfied: msgpack in /usr/local/lib/python3.10/dist-packages (from flax>=0.7.2->tensorflowjs) (1.0.7)\n",
            "Requirement already satisfied: optax in /usr/local/lib/python3.10/dist-packages (from flax>=0.7.2->tensorflowjs) (0.1.7)\n",
            "Requirement already satisfied: orbax-checkpoint in /usr/local/lib/python3.10/dist-packages (from flax>=0.7.2->tensorflowjs) (0.4.2)\n",
            "Requirement already satisfied: tensorstore in /usr/local/lib/python3.10/dist-packages (from flax>=0.7.2->tensorflowjs) (0.1.45)\n",
            "Requirement already satisfied: rich>=11.1 in /usr/local/lib/python3.10/dist-packages (from flax>=0.7.2->tensorflowjs) (13.7.0)\n",
            "Requirement already satisfied: typing-extensions>=4.2 in /usr/local/lib/python3.10/dist-packages (from flax>=0.7.2->tensorflowjs) (4.5.0)\n",
            "Requirement already satisfied: PyYAML>=5.4.1 in /usr/local/lib/python3.10/dist-packages (from flax>=0.7.2->tensorflowjs) (6.0.1)\n",
            "Requirement already satisfied: ml-dtypes>=0.2.0 in /usr/local/lib/python3.10/dist-packages (from jax>=0.4.13->tensorflowjs) (0.2.0)\n",
            "Requirement already satisfied: opt-einsum in /usr/local/lib/python3.10/dist-packages (from jax>=0.4.13->tensorflowjs) (3.3.0)\n",
            "Requirement already satisfied: scipy>=1.9 in /usr/local/lib/python3.10/dist-packages (from jax>=0.4.13->tensorflowjs) (1.11.3)\n",
            "Requirement already satisfied: absl-py>=1.0.0 in /usr/local/lib/python3.10/dist-packages (from tensorflow<3,>=2.13.0->tensorflowjs) (1.4.0)\n",
            "Requirement already satisfied: astunparse>=1.6.0 in /usr/local/lib/python3.10/dist-packages (from tensorflow<3,>=2.13.0->tensorflowjs) (1.6.3)\n",
            "Requirement already satisfied: flatbuffers>=23.5.26 in /usr/local/lib/python3.10/dist-packages (from tensorflow<3,>=2.13.0->tensorflowjs) (23.5.26)\n",
            "Requirement already satisfied: gast!=0.5.0,!=0.5.1,!=0.5.2,>=0.2.1 in /usr/local/lib/python3.10/dist-packages (from tensorflow<3,>=2.13.0->tensorflowjs) (0.5.4)\n",
            "Requirement already satisfied: google-pasta>=0.1.1 in /usr/local/lib/python3.10/dist-packages (from tensorflow<3,>=2.13.0->tensorflowjs) (0.2.0)\n",
            "Requirement already satisfied: h5py>=2.9.0 in /usr/local/lib/python3.10/dist-packages (from tensorflow<3,>=2.13.0->tensorflowjs) (3.9.0)\n",
            "Requirement already satisfied: libclang>=13.0.0 in /usr/local/lib/python3.10/dist-packages (from tensorflow<3,>=2.13.0->tensorflowjs) (16.0.6)\n",
            "Requirement already satisfied: protobuf!=4.21.0,!=4.21.1,!=4.21.2,!=4.21.3,!=4.21.4,!=4.21.5,<5.0.0dev,>=3.20.3 in /usr/local/lib/python3.10/dist-packages (from tensorflow<3,>=2.13.0->tensorflowjs) (3.20.3)\n",
            "Requirement already satisfied: setuptools in /usr/local/lib/python3.10/dist-packages (from tensorflow<3,>=2.13.0->tensorflowjs) (67.7.2)\n",
            "Requirement already satisfied: termcolor>=1.1.0 in /usr/local/lib/python3.10/dist-packages (from tensorflow<3,>=2.13.0->tensorflowjs) (2.3.0)\n",
            "Requirement already satisfied: wrapt<1.15,>=1.11.0 in /usr/local/lib/python3.10/dist-packages (from tensorflow<3,>=2.13.0->tensorflowjs) (1.14.1)\n",
            "Requirement already satisfied: tensorflow-io-gcs-filesystem>=0.23.1 in /usr/local/lib/python3.10/dist-packages (from tensorflow<3,>=2.13.0->tensorflowjs) (0.34.0)\n",
            "Requirement already satisfied: grpcio<2.0,>=1.24.3 in /usr/local/lib/python3.10/dist-packages (from tensorflow<3,>=2.13.0->tensorflowjs) (1.59.2)\n",
            "Requirement already satisfied: tensorboard<2.16,>=2.15 in /usr/local/lib/python3.10/dist-packages (from tensorflow<3,>=2.13.0->tensorflowjs) (2.15.1)\n",
            "Requirement already satisfied: tensorflow-estimator<2.16,>=2.15.0 in /usr/local/lib/python3.10/dist-packages (from tensorflow<3,>=2.13.0->tensorflowjs) (2.15.0)\n",
            "Requirement already satisfied: keras<2.16,>=2.15.0 in /usr/local/lib/python3.10/dist-packages (from tensorflow<3,>=2.13.0->tensorflowjs) (2.15.0)\n",
            "Requirement already satisfied: pandas in /usr/local/lib/python3.10/dist-packages (from tensorflow-decision-forests>=1.5.0->tensorflowjs) (1.5.3)\n",
            "Requirement already satisfied: wheel in /usr/local/lib/python3.10/dist-packages (from tensorflow-decision-forests>=1.5.0->tensorflowjs) (0.41.3)\n",
            "Requirement already satisfied: wurlitzer in /usr/local/lib/python3.10/dist-packages (from tensorflow-decision-forests>=1.5.0->tensorflowjs) (3.0.3)\n",
            "Requirement already satisfied: markdown-it-py>=2.2.0 in /usr/local/lib/python3.10/dist-packages (from rich>=11.1->flax>=0.7.2->tensorflowjs) (3.0.0)\n",
            "Requirement already satisfied: pygments<3.0.0,>=2.13.0 in /usr/local/lib/python3.10/dist-packages (from rich>=11.1->flax>=0.7.2->tensorflowjs) (2.16.1)\n",
            "Requirement already satisfied: google-auth<3,>=1.6.3 in /usr/local/lib/python3.10/dist-packages (from tensorboard<2.16,>=2.15->tensorflow<3,>=2.13.0->tensorflowjs) (2.17.3)\n",
            "Requirement already satisfied: google-auth-oauthlib<2,>=0.5 in /usr/local/lib/python3.10/dist-packages (from tensorboard<2.16,>=2.15->tensorflow<3,>=2.13.0->tensorflowjs) (1.0.0)\n",
            "Requirement already satisfied: markdown>=2.6.8 in /usr/local/lib/python3.10/dist-packages (from tensorboard<2.16,>=2.15->tensorflow<3,>=2.13.0->tensorflowjs) (3.5.1)\n",
            "Requirement already satisfied: requests<3,>=2.21.0 in /usr/local/lib/python3.10/dist-packages (from tensorboard<2.16,>=2.15->tensorflow<3,>=2.13.0->tensorflowjs) (2.31.0)\n",
            "Requirement already satisfied: tensorboard-data-server<0.8.0,>=0.7.0 in /usr/local/lib/python3.10/dist-packages (from tensorboard<2.16,>=2.15->tensorflow<3,>=2.13.0->tensorflowjs) (0.7.2)\n",
            "Requirement already satisfied: werkzeug>=1.0.1 in /usr/local/lib/python3.10/dist-packages (from tensorboard<2.16,>=2.15->tensorflow<3,>=2.13.0->tensorflowjs) (3.0.1)\n",
            "Requirement already satisfied: chex>=0.1.5 in /usr/local/lib/python3.10/dist-packages (from optax->flax>=0.7.2->tensorflowjs) (0.1.7)\n",
            "Requirement already satisfied: etils[epath,epy] in /usr/local/lib/python3.10/dist-packages (from orbax-checkpoint->flax>=0.7.2->tensorflowjs) (1.5.2)\n",
            "Requirement already satisfied: nest_asyncio in /usr/local/lib/python3.10/dist-packages (from orbax-checkpoint->flax>=0.7.2->tensorflowjs) (1.5.8)\n",
            "Requirement already satisfied: python-dateutil>=2.8.1 in /usr/local/lib/python3.10/dist-packages (from pandas->tensorflow-decision-forests>=1.5.0->tensorflowjs) (2.8.2)\n",
            "Requirement already satisfied: pytz>=2020.1 in /usr/local/lib/python3.10/dist-packages (from pandas->tensorflow-decision-forests>=1.5.0->tensorflowjs) (2023.3.post1)\n",
            "Requirement already satisfied: dm-tree>=0.1.5 in /usr/local/lib/python3.10/dist-packages (from chex>=0.1.5->optax->flax>=0.7.2->tensorflowjs) (0.1.8)\n",
            "Requirement already satisfied: toolz>=0.9.0 in /usr/local/lib/python3.10/dist-packages (from chex>=0.1.5->optax->flax>=0.7.2->tensorflowjs) (0.12.0)\n",
            "Requirement already satisfied: cachetools<6.0,>=2.0.0 in /usr/local/lib/python3.10/dist-packages (from google-auth<3,>=1.6.3->tensorboard<2.16,>=2.15->tensorflow<3,>=2.13.0->tensorflowjs) (5.3.2)\n",
            "Requirement already satisfied: pyasn1-modules>=0.2.1 in /usr/local/lib/python3.10/dist-packages (from google-auth<3,>=1.6.3->tensorboard<2.16,>=2.15->tensorflow<3,>=2.13.0->tensorflowjs) (0.3.0)\n",
            "Requirement already satisfied: rsa<5,>=3.1.4 in /usr/local/lib/python3.10/dist-packages (from google-auth<3,>=1.6.3->tensorboard<2.16,>=2.15->tensorflow<3,>=2.13.0->tensorflowjs) (4.9)\n",
            "Requirement already satisfied: requests-oauthlib>=0.7.0 in /usr/local/lib/python3.10/dist-packages (from google-auth-oauthlib<2,>=0.5->tensorboard<2.16,>=2.15->tensorflow<3,>=2.13.0->tensorflowjs) (1.3.1)\n",
            "Requirement already satisfied: mdurl~=0.1 in /usr/local/lib/python3.10/dist-packages (from markdown-it-py>=2.2.0->rich>=11.1->flax>=0.7.2->tensorflowjs) (0.1.2)\n",
            "Requirement already satisfied: charset-normalizer<4,>=2 in /usr/local/lib/python3.10/dist-packages (from requests<3,>=2.21.0->tensorboard<2.16,>=2.15->tensorflow<3,>=2.13.0->tensorflowjs) (3.3.2)\n",
            "Requirement already satisfied: idna<4,>=2.5 in /usr/local/lib/python3.10/dist-packages (from requests<3,>=2.21.0->tensorboard<2.16,>=2.15->tensorflow<3,>=2.13.0->tensorflowjs) (3.4)\n",
            "Requirement already satisfied: urllib3<3,>=1.21.1 in /usr/local/lib/python3.10/dist-packages (from requests<3,>=2.21.0->tensorboard<2.16,>=2.15->tensorflow<3,>=2.13.0->tensorflowjs) (2.0.7)\n",
            "Requirement already satisfied: certifi>=2017.4.17 in /usr/local/lib/python3.10/dist-packages (from requests<3,>=2.21.0->tensorboard<2.16,>=2.15->tensorflow<3,>=2.13.0->tensorflowjs) (2023.7.22)\n",
            "Requirement already satisfied: MarkupSafe>=2.1.1 in /usr/local/lib/python3.10/dist-packages (from werkzeug>=1.0.1->tensorboard<2.16,>=2.15->tensorflow<3,>=2.13.0->tensorflowjs) (2.1.3)\n",
            "Requirement already satisfied: fsspec in /usr/local/lib/python3.10/dist-packages (from etils[epath,epy]->orbax-checkpoint->flax>=0.7.2->tensorflowjs) (2023.6.0)\n",
            "Requirement already satisfied: zipp in /usr/local/lib/python3.10/dist-packages (from etils[epath,epy]->orbax-checkpoint->flax>=0.7.2->tensorflowjs) (3.17.0)\n",
            "Requirement already satisfied: pyasn1<0.6.0,>=0.4.6 in /usr/local/lib/python3.10/dist-packages (from pyasn1-modules>=0.2.1->google-auth<3,>=1.6.3->tensorboard<2.16,>=2.15->tensorflow<3,>=2.13.0->tensorflowjs) (0.5.0)\n",
            "Requirement already satisfied: oauthlib>=3.0.0 in /usr/local/lib/python3.10/dist-packages (from requests-oauthlib>=0.7.0->google-auth-oauthlib<2,>=0.5->tensorboard<2.16,>=2.15->tensorflow<3,>=2.13.0->tensorflowjs) (3.2.2)\n"
          ]
        }
      ]
    },
    {
      "cell_type": "markdown",
      "source": [
        "#conectar carpeta con imagenes"
      ],
      "metadata": {
        "id": "HIrmRdsxKCEi"
      }
    },
    {
      "cell_type": "code",
      "source": [
        "!mkdir carpeta_salida"
      ],
      "metadata": {
        "id": "X08WeUYSbIF-"
      },
      "execution_count": null,
      "outputs": []
    },
    {
      "cell_type": "code",
      "source": [
        "!tensorflowjs_converter --input_format keras /content/drive/MyDrive/ProyectoIncendios/Redes/ProyectoInc/Incendios-Normal-cnn-ad.h5 carpeta_salida"
      ],
      "metadata": {
        "colab": {
          "base_uri": "https://localhost:8080/"
        },
        "id": "7eCmJtZsbJI4",
        "outputId": "652196cc-e259-439c-a910-8451a5eb58cb"
      },
      "execution_count": null,
      "outputs": [
        {
          "output_type": "stream",
          "name": "stdout",
          "text": [
            "2023-11-29 05:38:29.037792: E external/local_xla/xla/stream_executor/cuda/cuda_dnn.cc:9261] Unable to register cuDNN factory: Attempting to register factory for plugin cuDNN when one has already been registered\n",
            "2023-11-29 05:38:29.037850: E external/local_xla/xla/stream_executor/cuda/cuda_fft.cc:607] Unable to register cuFFT factory: Attempting to register factory for plugin cuFFT when one has already been registered\n",
            "2023-11-29 05:38:29.039362: E external/local_xla/xla/stream_executor/cuda/cuda_blas.cc:1515] Unable to register cuBLAS factory: Attempting to register factory for plugin cuBLAS when one has already been registered\n",
            "2023-11-29 05:38:30.056909: W tensorflow/compiler/tf2tensorrt/utils/py_utils.cc:38] TF-TRT Warning: Could not find TensorRT\n"
          ]
        }
      ]
    }
  ]
}